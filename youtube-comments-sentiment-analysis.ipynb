{
 "cells": [
  {
   "cell_type": "code",
   "execution_count": 1,
   "id": "93e69909",
   "metadata": {
    "execution": {
     "iopub.execute_input": "2025-02-28T20:34:25.207465Z",
     "iopub.status.busy": "2025-02-28T20:34:25.207136Z",
     "iopub.status.idle": "2025-02-28T20:34:39.591612Z",
     "shell.execute_reply": "2025-02-28T20:34:39.590915Z"
    },
    "id": "1UZTu0Jv_60A",
    "outputId": "d12ed3b2-32ea-40a5-94b9-b900ccf95a7b",
    "papermill": {
     "duration": 14.397446,
     "end_time": "2025-02-28T20:34:39.593338",
     "exception": false,
     "start_time": "2025-02-28T20:34:25.195892",
     "status": "completed"
    },
    "tags": []
   },
   "outputs": [
    {
     "name": "stdout",
     "output_type": "stream",
     "text": [
      "[nltk_data] Downloading package stopwords to /usr/share/nltk_data...\n",
      "[nltk_data]   Unzipping corpora/stopwords.zip.\n"
     ]
    }
   ],
   "source": [
    "import os\n",
    "import numpy as np\n",
    "import pandas as pd\n",
    "import matplotlib.pyplot as plt\n",
    "import seaborn as sns\n",
    "import re\n",
    "import nltk\n",
    "from nltk.corpus import stopwords\n",
    "nltk.download('stopwords')\n",
    "import string\n",
    "from sklearn.model_selection import train_test_split\n",
    "from sklearn.feature_extraction.text import CountVectorizer\n",
    "from sklearn.feature_extraction.text import TfidfTransformer\n",
    "from keras.models import Model\n",
    "from keras.layers import LSTM, Activation, Dense, Dropout, Input, Embedding, SpatialDropout1D\n",
    "from keras.optimizers import RMSprop\n",
    "from keras.preprocessing import sequence\n",
    "from keras.utils import to_categorical\n",
    "from keras.callbacks import EarlyStopping, ModelCheckpoint\n",
    "from keras.models import Sequential\n",
    "from keras.utils import pad_sequences\n",
    "from sklearn.feature_extraction.text import TfidfTransformer\n",
    "from sklearn.metrics import confusion_matrix"
   ]
  },
  {
   "cell_type": "code",
   "execution_count": 2,
   "id": "b0027da9",
   "metadata": {
    "execution": {
     "iopub.execute_input": "2025-02-28T20:34:39.614210Z",
     "iopub.status.busy": "2025-02-28T20:34:39.613743Z",
     "iopub.status.idle": "2025-02-28T20:34:39.629181Z",
     "shell.execute_reply": "2025-02-28T20:34:39.628347Z"
    },
    "papermill": {
     "duration": 0.026691,
     "end_time": "2025-02-28T20:34:39.630331",
     "exception": false,
     "start_time": "2025-02-28T20:34:39.603640",
     "status": "completed"
    },
    "tags": []
   },
   "outputs": [
    {
     "name": "stdout",
     "output_type": "stream",
     "text": [
      "/kaggle/input/YoutubeCommentsDataSet.csv\n"
     ]
    }
   ],
   "source": [
    "# This Python 3 environment comes with many helpful analytics libraries installed\n",
    "# It is defined by the kaggle/python Docker image: https://github.com/kaggle/docker-python\n",
    "# For example, here's several helpful packages to load\n",
    "\n",
    "import numpy as np # linear algebra\n",
    "import pandas as pd # data processing, CSV file I/O (e.g. pd.read_csv)\n",
    "\n",
    "# Input data files are available in the read-only \"../input/\" directory\n",
    "# For example, running this (by clicking run or pressing Shift+Enter) will list all files under the input directory\n",
    "\n",
    "import os\n",
    "for dirname, _, filenames in os.walk('/kaggle/input'):\n",
    "    for filename in filenames:\n",
    "        print(os.path.join(dirname, filename))\n",
    "\n",
    "# You can write up to 20GB to the current directory (/kaggle/working/) that gets preserved as output when you create a version using \"Save & Run All\" \n",
    "# You can also write temporary files to /kaggle/temp/, but they won't be saved outside of the current session"
   ]
  },
  {
   "cell_type": "code",
   "execution_count": null,
   "id": "227f8848",
   "metadata": {
    "papermill": {
     "duration": 0.009342,
     "end_time": "2025-02-28T20:34:39.649147",
     "exception": false,
     "start_time": "2025-02-28T20:34:39.639805",
     "status": "completed"
    },
    "tags": []
   },
   "outputs": [],
   "source": []
  },
  {
   "cell_type": "code",
   "execution_count": 3,
   "id": "6288e68e",
   "metadata": {
    "execution": {
     "iopub.execute_input": "2025-02-28T20:34:39.668694Z",
     "iopub.status.busy": "2025-02-28T20:34:39.668478Z",
     "iopub.status.idle": "2025-02-28T20:34:39.813490Z",
     "shell.execute_reply": "2025-02-28T20:34:39.812494Z"
    },
    "id": "4dljxJ3D_4vF",
    "papermill": {
     "duration": 0.156587,
     "end_time": "2025-02-28T20:34:39.815129",
     "exception": false,
     "start_time": "2025-02-28T20:34:39.658542",
     "status": "completed"
    },
    "tags": []
   },
   "outputs": [],
   "source": [
    "df=pd.read_csv(\"/kaggle/input/YoutubeCommentsDataSet.csv\")"
   ]
  },
  {
   "cell_type": "code",
   "execution_count": 4,
   "id": "d1cb572b",
   "metadata": {
    "execution": {
     "iopub.execute_input": "2025-02-28T20:34:39.835861Z",
     "iopub.status.busy": "2025-02-28T20:34:39.835590Z",
     "iopub.status.idle": "2025-02-28T20:34:39.854548Z",
     "shell.execute_reply": "2025-02-28T20:34:39.853856Z"
    },
    "id": "xOl1roPdHAOw",
    "outputId": "4eb9f460-bb80-451e-a492-93ec1e2d9fa5",
    "papermill": {
     "duration": 0.030368,
     "end_time": "2025-02-28T20:34:39.855815",
     "exception": false,
     "start_time": "2025-02-28T20:34:39.825447",
     "status": "completed"
    },
    "tags": []
   },
   "outputs": [
    {
     "data": {
      "text/html": [
       "<div>\n",
       "<style scoped>\n",
       "    .dataframe tbody tr th:only-of-type {\n",
       "        vertical-align: middle;\n",
       "    }\n",
       "\n",
       "    .dataframe tbody tr th {\n",
       "        vertical-align: top;\n",
       "    }\n",
       "\n",
       "    .dataframe thead th {\n",
       "        text-align: right;\n",
       "    }\n",
       "</style>\n",
       "<table border=\"1\" class=\"dataframe\">\n",
       "  <thead>\n",
       "    <tr style=\"text-align: right;\">\n",
       "      <th></th>\n",
       "      <th>Comment</th>\n",
       "      <th>Sentiment</th>\n",
       "    </tr>\n",
       "  </thead>\n",
       "  <tbody>\n",
       "    <tr>\n",
       "      <th>0</th>\n",
       "      <td>lets not forget that apple pay in 2014 require...</td>\n",
       "      <td>neutral</td>\n",
       "    </tr>\n",
       "    <tr>\n",
       "      <th>1</th>\n",
       "      <td>here in nz 50 of retailers don’t even have con...</td>\n",
       "      <td>negative</td>\n",
       "    </tr>\n",
       "    <tr>\n",
       "      <th>2</th>\n",
       "      <td>i will forever acknowledge this channel with t...</td>\n",
       "      <td>positive</td>\n",
       "    </tr>\n",
       "    <tr>\n",
       "      <th>3</th>\n",
       "      <td>whenever i go to a place that doesn’t take app...</td>\n",
       "      <td>negative</td>\n",
       "    </tr>\n",
       "    <tr>\n",
       "      <th>4</th>\n",
       "      <td>apple pay is so convenient secure and easy to ...</td>\n",
       "      <td>positive</td>\n",
       "    </tr>\n",
       "  </tbody>\n",
       "</table>\n",
       "</div>"
      ],
      "text/plain": [
       "                                             Comment Sentiment\n",
       "0  lets not forget that apple pay in 2014 require...   neutral\n",
       "1  here in nz 50 of retailers don’t even have con...  negative\n",
       "2  i will forever acknowledge this channel with t...  positive\n",
       "3  whenever i go to a place that doesn’t take app...  negative\n",
       "4  apple pay is so convenient secure and easy to ...  positive"
      ]
     },
     "execution_count": 4,
     "metadata": {},
     "output_type": "execute_result"
    }
   ],
   "source": [
    "df.head()"
   ]
  },
  {
   "cell_type": "code",
   "execution_count": 5,
   "id": "16b0b973",
   "metadata": {
    "execution": {
     "iopub.execute_input": "2025-02-28T20:34:39.876049Z",
     "iopub.status.busy": "2025-02-28T20:34:39.875788Z",
     "iopub.status.idle": "2025-02-28T20:34:39.879871Z",
     "shell.execute_reply": "2025-02-28T20:34:39.879162Z"
    },
    "id": "w2wz9mK8HC9-",
    "outputId": "a7606091-c1d4-4eba-f33b-0079dd3db661",
    "papermill": {
     "duration": 0.015484,
     "end_time": "2025-02-28T20:34:39.881148",
     "exception": false,
     "start_time": "2025-02-28T20:34:39.865664",
     "status": "completed"
    },
    "tags": []
   },
   "outputs": [
    {
     "data": {
      "text/plain": [
       "(18408, 2)"
      ]
     },
     "execution_count": 5,
     "metadata": {},
     "output_type": "execute_result"
    }
   ],
   "source": [
    "df.shape"
   ]
  },
  {
   "cell_type": "markdown",
   "id": "c687614c",
   "metadata": {
    "id": "_i-KvIsvJgbr",
    "papermill": {
     "duration": 0.009532,
     "end_time": "2025-02-28T20:34:39.900537",
     "exception": false,
     "start_time": "2025-02-28T20:34:39.891005",
     "status": "completed"
    },
    "tags": []
   },
   "source": [
    "# **remove null**"
   ]
  },
  {
   "cell_type": "code",
   "execution_count": 6,
   "id": "cfb201d4",
   "metadata": {
    "execution": {
     "iopub.execute_input": "2025-02-28T20:34:39.920848Z",
     "iopub.status.busy": "2025-02-28T20:34:39.920616Z",
     "iopub.status.idle": "2025-02-28T20:34:39.928421Z",
     "shell.execute_reply": "2025-02-28T20:34:39.927679Z"
    },
    "id": "oCmwliMwH_I8",
    "outputId": "d90624ac-f53b-4c4a-e35c-0e14a2a32233",
    "papermill": {
     "duration": 0.019126,
     "end_time": "2025-02-28T20:34:39.929549",
     "exception": false,
     "start_time": "2025-02-28T20:34:39.910423",
     "status": "completed"
    },
    "tags": []
   },
   "outputs": [
    {
     "data": {
      "text/plain": [
       "Comment      44\n",
       "Sentiment     0\n",
       "dtype: int64"
      ]
     },
     "execution_count": 6,
     "metadata": {},
     "output_type": "execute_result"
    }
   ],
   "source": [
    "df.isnull().sum()"
   ]
  },
  {
   "cell_type": "code",
   "execution_count": 7,
   "id": "264e06d3",
   "metadata": {
    "execution": {
     "iopub.execute_input": "2025-02-28T20:34:39.949404Z",
     "iopub.status.busy": "2025-02-28T20:34:39.949203Z",
     "iopub.status.idle": "2025-02-28T20:34:39.958264Z",
     "shell.execute_reply": "2025-02-28T20:34:39.957661Z"
    },
    "id": "IRSNe5wZJA0w",
    "papermill": {
     "duration": 0.020371,
     "end_time": "2025-02-28T20:34:39.959451",
     "exception": false,
     "start_time": "2025-02-28T20:34:39.939080",
     "status": "completed"
    },
    "tags": []
   },
   "outputs": [],
   "source": [
    "df.dropna(inplace=True)"
   ]
  },
  {
   "cell_type": "code",
   "execution_count": 8,
   "id": "c1742c8e",
   "metadata": {
    "execution": {
     "iopub.execute_input": "2025-02-28T20:34:39.979542Z",
     "iopub.status.busy": "2025-02-28T20:34:39.979327Z",
     "iopub.status.idle": "2025-02-28T20:34:39.985900Z",
     "shell.execute_reply": "2025-02-28T20:34:39.985115Z"
    },
    "id": "uNEg7XSRJdHb",
    "outputId": "c31dae4d-bc9e-4eed-bd57-43292671bd0a",
    "papermill": {
     "duration": 0.018059,
     "end_time": "2025-02-28T20:34:39.987357",
     "exception": false,
     "start_time": "2025-02-28T20:34:39.969298",
     "status": "completed"
    },
    "tags": []
   },
   "outputs": [
    {
     "data": {
      "text/plain": [
       "Comment      0\n",
       "Sentiment    0\n",
       "dtype: int64"
      ]
     },
     "execution_count": 8,
     "metadata": {},
     "output_type": "execute_result"
    }
   ],
   "source": [
    "df.isnull().sum()"
   ]
  },
  {
   "cell_type": "markdown",
   "id": "08e450b8",
   "metadata": {
    "id": "FYtC9J3ZJpGC",
    "papermill": {
     "duration": 0.009428,
     "end_time": "2025-02-28T20:34:40.007405",
     "exception": false,
     "start_time": "2025-02-28T20:34:39.997977",
     "status": "completed"
    },
    "tags": []
   },
   "source": [
    "# **check dublicates**"
   ]
  },
  {
   "cell_type": "code",
   "execution_count": 9,
   "id": "c46b32d8",
   "metadata": {
    "execution": {
     "iopub.execute_input": "2025-02-28T20:34:40.027506Z",
     "iopub.status.busy": "2025-02-28T20:34:40.027277Z",
     "iopub.status.idle": "2025-02-28T20:34:40.047922Z",
     "shell.execute_reply": "2025-02-28T20:34:40.047248Z"
    },
    "id": "HgppuTu4Joiv",
    "outputId": "9391021b-6193-4bc0-cb02-eb36d5ec1d06",
    "papermill": {
     "duration": 0.032119,
     "end_time": "2025-02-28T20:34:40.049224",
     "exception": false,
     "start_time": "2025-02-28T20:34:40.017105",
     "status": "completed"
    },
    "tags": []
   },
   "outputs": [
    {
     "data": {
      "text/plain": [
       "490"
      ]
     },
     "execution_count": 9,
     "metadata": {},
     "output_type": "execute_result"
    }
   ],
   "source": [
    "df.duplicated().sum()"
   ]
  },
  {
   "cell_type": "code",
   "execution_count": 10,
   "id": "3a7f33fa",
   "metadata": {
    "execution": {
     "iopub.execute_input": "2025-02-28T20:34:40.070389Z",
     "iopub.status.busy": "2025-02-28T20:34:40.070177Z",
     "iopub.status.idle": "2025-02-28T20:34:40.084336Z",
     "shell.execute_reply": "2025-02-28T20:34:40.083701Z"
    },
    "id": "oOBMWUsLJ5Vw",
    "papermill": {
     "duration": 0.026637,
     "end_time": "2025-02-28T20:34:40.085681",
     "exception": false,
     "start_time": "2025-02-28T20:34:40.059044",
     "status": "completed"
    },
    "tags": []
   },
   "outputs": [],
   "source": [
    "df.drop_duplicates(inplace=True)"
   ]
  },
  {
   "cell_type": "code",
   "execution_count": 11,
   "id": "60a88ee5",
   "metadata": {
    "execution": {
     "iopub.execute_input": "2025-02-28T20:34:40.107725Z",
     "iopub.status.busy": "2025-02-28T20:34:40.107473Z",
     "iopub.status.idle": "2025-02-28T20:34:40.122406Z",
     "shell.execute_reply": "2025-02-28T20:34:40.121481Z"
    },
    "id": "GFXjfX9OJ88V",
    "outputId": "11bdd5b6-2410-4eb0-9c5b-f94b6ddfe9dc",
    "papermill": {
     "duration": 0.026515,
     "end_time": "2025-02-28T20:34:40.123752",
     "exception": false,
     "start_time": "2025-02-28T20:34:40.097237",
     "status": "completed"
    },
    "tags": []
   },
   "outputs": [
    {
     "data": {
      "text/plain": [
       "0"
      ]
     },
     "execution_count": 11,
     "metadata": {},
     "output_type": "execute_result"
    }
   ],
   "source": [
    "df.duplicated().sum()"
   ]
  },
  {
   "cell_type": "code",
   "execution_count": 12,
   "id": "0c6e1fd1",
   "metadata": {
    "execution": {
     "iopub.execute_input": "2025-02-28T20:34:40.147306Z",
     "iopub.status.busy": "2025-02-28T20:34:40.147016Z",
     "iopub.status.idle": "2025-02-28T20:34:40.156910Z",
     "shell.execute_reply": "2025-02-28T20:34:40.155899Z"
    },
    "id": "by_QnxXrKMos",
    "outputId": "6328b40f-648e-4e0b-ce4c-e9ed43cc3974",
    "papermill": {
     "duration": 0.024054,
     "end_time": "2025-02-28T20:34:40.158641",
     "exception": false,
     "start_time": "2025-02-28T20:34:40.134587",
     "status": "completed"
    },
    "tags": []
   },
   "outputs": [
    {
     "data": {
      "text/plain": [
       "Sentiment\n",
       "positive    11054\n",
       "neutral      4503\n",
       "negative     2317\n",
       "Name: count, dtype: int64"
      ]
     },
     "execution_count": 12,
     "metadata": {},
     "output_type": "execute_result"
    }
   ],
   "source": [
    "df['Sentiment'].value_counts()"
   ]
  },
  {
   "cell_type": "markdown",
   "id": "2c44bd79",
   "metadata": {
    "id": "d3udrLYcI7oE",
    "papermill": {
     "duration": 0.010474,
     "end_time": "2025-02-28T20:34:40.182014",
     "exception": false,
     "start_time": "2025-02-28T20:34:40.171540",
     "status": "completed"
    },
    "tags": []
   },
   "source": [
    "# **lower case**"
   ]
  },
  {
   "cell_type": "code",
   "execution_count": 13,
   "id": "2426593a",
   "metadata": {
    "execution": {
     "iopub.execute_input": "2025-02-28T20:34:40.204399Z",
     "iopub.status.busy": "2025-02-28T20:34:40.204123Z",
     "iopub.status.idle": "2025-02-28T20:34:40.209102Z",
     "shell.execute_reply": "2025-02-28T20:34:40.208284Z"
    },
    "id": "wWGripDvIcDS",
    "outputId": "047095a3-f5a1-43f1-8639-ca673bf19f44",
    "papermill": {
     "duration": 0.017506,
     "end_time": "2025-02-28T20:34:40.210461",
     "exception": false,
     "start_time": "2025-02-28T20:34:40.192955",
     "status": "completed"
    },
    "tags": []
   },
   "outputs": [
    {
     "data": {
      "text/plain": [
       "'whenever i go to a place that doesn’t take apple pay doesn’t happen too often it’s such a drag between ‘contactless covid’ habits and my getting the apple card i’ve gotten so used to apple pay that i get seriously annoyed when a store doesn’t take it it feels like a shock it’s crazy how quickly it took over my shopping routine i’ve officially been brainwashed by apple because now it feels so inconvenient to even carry a physical card in my pocket'"
      ]
     },
     "execution_count": 13,
     "metadata": {},
     "output_type": "execute_result"
    }
   ],
   "source": [
    "df['Comment'][3]"
   ]
  },
  {
   "cell_type": "code",
   "execution_count": 14,
   "id": "7d34e969",
   "metadata": {
    "execution": {
     "iopub.execute_input": "2025-02-28T20:34:40.233777Z",
     "iopub.status.busy": "2025-02-28T20:34:40.233536Z",
     "iopub.status.idle": "2025-02-28T20:34:40.250873Z",
     "shell.execute_reply": "2025-02-28T20:34:40.250198Z"
    },
    "id": "oSHoh4OVI4IA",
    "papermill": {
     "duration": 0.031052,
     "end_time": "2025-02-28T20:34:40.252326",
     "exception": false,
     "start_time": "2025-02-28T20:34:40.221274",
     "status": "completed"
    },
    "tags": []
   },
   "outputs": [],
   "source": [
    "df['Comment'] = df['Comment'].str.lower()"
   ]
  },
  {
   "cell_type": "code",
   "execution_count": 15,
   "id": "de91d5f3",
   "metadata": {
    "execution": {
     "iopub.execute_input": "2025-02-28T20:34:40.274946Z",
     "iopub.status.busy": "2025-02-28T20:34:40.274699Z",
     "iopub.status.idle": "2025-02-28T20:34:40.284631Z",
     "shell.execute_reply": "2025-02-28T20:34:40.283713Z"
    },
    "id": "X20rzG8JKLZz",
    "outputId": "9e22c9ed-3e0f-449b-ca8f-3ddf9f1777cd",
    "papermill": {
     "duration": 0.022652,
     "end_time": "2025-02-28T20:34:40.286205",
     "exception": false,
     "start_time": "2025-02-28T20:34:40.263553",
     "status": "completed"
    },
    "tags": []
   },
   "outputs": [
    {
     "data": {
      "text/html": [
       "<div>\n",
       "<style scoped>\n",
       "    .dataframe tbody tr th:only-of-type {\n",
       "        vertical-align: middle;\n",
       "    }\n",
       "\n",
       "    .dataframe tbody tr th {\n",
       "        vertical-align: top;\n",
       "    }\n",
       "\n",
       "    .dataframe thead th {\n",
       "        text-align: right;\n",
       "    }\n",
       "</style>\n",
       "<table border=\"1\" class=\"dataframe\">\n",
       "  <thead>\n",
       "    <tr style=\"text-align: right;\">\n",
       "      <th></th>\n",
       "      <th>Comment</th>\n",
       "      <th>Sentiment</th>\n",
       "    </tr>\n",
       "  </thead>\n",
       "  <tbody>\n",
       "    <tr>\n",
       "      <th>0</th>\n",
       "      <td>lets not forget that apple pay in 2014 require...</td>\n",
       "      <td>neutral</td>\n",
       "    </tr>\n",
       "    <tr>\n",
       "      <th>1</th>\n",
       "      <td>here in nz 50 of retailers don’t even have con...</td>\n",
       "      <td>negative</td>\n",
       "    </tr>\n",
       "    <tr>\n",
       "      <th>2</th>\n",
       "      <td>i will forever acknowledge this channel with t...</td>\n",
       "      <td>positive</td>\n",
       "    </tr>\n",
       "    <tr>\n",
       "      <th>3</th>\n",
       "      <td>whenever i go to a place that doesn’t take app...</td>\n",
       "      <td>negative</td>\n",
       "    </tr>\n",
       "    <tr>\n",
       "      <th>4</th>\n",
       "      <td>apple pay is so convenient secure and easy to ...</td>\n",
       "      <td>positive</td>\n",
       "    </tr>\n",
       "    <tr>\n",
       "      <th>...</th>\n",
       "      <td>...</td>\n",
       "      <td>...</td>\n",
       "    </tr>\n",
       "    <tr>\n",
       "      <th>18403</th>\n",
       "      <td>i really like the point about engineering tool...</td>\n",
       "      <td>positive</td>\n",
       "    </tr>\n",
       "    <tr>\n",
       "      <th>18404</th>\n",
       "      <td>i’ve just started exploring this field and thi...</td>\n",
       "      <td>positive</td>\n",
       "    </tr>\n",
       "    <tr>\n",
       "      <th>18405</th>\n",
       "      <td>excelente video con una pregunta filosófica pr...</td>\n",
       "      <td>neutral</td>\n",
       "    </tr>\n",
       "    <tr>\n",
       "      <th>18406</th>\n",
       "      <td>hey daniel just discovered your channel a coup...</td>\n",
       "      <td>positive</td>\n",
       "    </tr>\n",
       "    <tr>\n",
       "      <th>18407</th>\n",
       "      <td>this is great focus is key a playful approach ...</td>\n",
       "      <td>positive</td>\n",
       "    </tr>\n",
       "  </tbody>\n",
       "</table>\n",
       "<p>17874 rows × 2 columns</p>\n",
       "</div>"
      ],
      "text/plain": [
       "                                                 Comment Sentiment\n",
       "0      lets not forget that apple pay in 2014 require...   neutral\n",
       "1      here in nz 50 of retailers don’t even have con...  negative\n",
       "2      i will forever acknowledge this channel with t...  positive\n",
       "3      whenever i go to a place that doesn’t take app...  negative\n",
       "4      apple pay is so convenient secure and easy to ...  positive\n",
       "...                                                  ...       ...\n",
       "18403  i really like the point about engineering tool...  positive\n",
       "18404  i’ve just started exploring this field and thi...  positive\n",
       "18405  excelente video con una pregunta filosófica pr...   neutral\n",
       "18406  hey daniel just discovered your channel a coup...  positive\n",
       "18407  this is great focus is key a playful approach ...  positive\n",
       "\n",
       "[17874 rows x 2 columns]"
      ]
     },
     "execution_count": 15,
     "metadata": {},
     "output_type": "execute_result"
    }
   ],
   "source": [
    "df"
   ]
  },
  {
   "cell_type": "markdown",
   "id": "d3255ff9",
   "metadata": {
    "id": "sMgV8o1fKmDM",
    "papermill": {
     "duration": 0.011381,
     "end_time": "2025-02-28T20:34:40.309574",
     "exception": false,
     "start_time": "2025-02-28T20:34:40.298193",
     "status": "completed"
    },
    "tags": []
   },
   "source": [
    "# **remove_html_tags**"
   ]
  },
  {
   "cell_type": "code",
   "execution_count": 16,
   "id": "71a65e0d",
   "metadata": {
    "execution": {
     "iopub.execute_input": "2025-02-28T20:34:40.333509Z",
     "iopub.status.busy": "2025-02-28T20:34:40.333253Z",
     "iopub.status.idle": "2025-02-28T20:34:40.336851Z",
     "shell.execute_reply": "2025-02-28T20:34:40.336004Z"
    },
    "id": "-J0JJmNmKaur",
    "papermill": {
     "duration": 0.016934,
     "end_time": "2025-02-28T20:34:40.338310",
     "exception": false,
     "start_time": "2025-02-28T20:34:40.321376",
     "status": "completed"
    },
    "tags": []
   },
   "outputs": [],
   "source": [
    "import re\n",
    "def remove_html_tags(text):\n",
    "    pattern = re.compile('<.*?>')\n",
    "    return pattern.sub(r'', text)"
   ]
  },
  {
   "cell_type": "code",
   "execution_count": 17,
   "id": "8b59fb3f",
   "metadata": {
    "execution": {
     "iopub.execute_input": "2025-02-28T20:34:40.360237Z",
     "iopub.status.busy": "2025-02-28T20:34:40.360014Z",
     "iopub.status.idle": "2025-02-28T20:34:40.363134Z",
     "shell.execute_reply": "2025-02-28T20:34:40.362332Z"
    },
    "id": "oWoo_BoXKqn4",
    "papermill": {
     "duration": 0.015194,
     "end_time": "2025-02-28T20:34:40.364365",
     "exception": false,
     "start_time": "2025-02-28T20:34:40.349171",
     "status": "completed"
    },
    "tags": []
   },
   "outputs": [],
   "source": [
    "text = \"<html><body><p> Movie 1</p><p> Actor - Aamir Khan</p><p> Click here to <a href='http://google.com'>download</a></p></body></html>\"\n"
   ]
  },
  {
   "cell_type": "code",
   "execution_count": 18,
   "id": "eddcb91d",
   "metadata": {
    "execution": {
     "iopub.execute_input": "2025-02-28T20:34:40.386143Z",
     "iopub.status.busy": "2025-02-28T20:34:40.385882Z",
     "iopub.status.idle": "2025-02-28T20:34:40.390181Z",
     "shell.execute_reply": "2025-02-28T20:34:40.389512Z"
    },
    "id": "2ORK_8-fKtnJ",
    "outputId": "a646cd68-a472-46f8-a4a1-9d65262f1c07",
    "papermill": {
     "duration": 0.016165,
     "end_time": "2025-02-28T20:34:40.391323",
     "exception": false,
     "start_time": "2025-02-28T20:34:40.375158",
     "status": "completed"
    },
    "tags": []
   },
   "outputs": [
    {
     "data": {
      "text/plain": [
       "' Movie 1 Actor - Aamir Khan Click here to download'"
      ]
     },
     "execution_count": 18,
     "metadata": {},
     "output_type": "execute_result"
    }
   ],
   "source": [
    "remove_html_tags(text)"
   ]
  },
  {
   "cell_type": "code",
   "execution_count": 19,
   "id": "01cc078a",
   "metadata": {
    "execution": {
     "iopub.execute_input": "2025-02-28T20:34:40.412700Z",
     "iopub.status.busy": "2025-02-28T20:34:40.412495Z",
     "iopub.status.idle": "2025-02-28T20:34:40.432789Z",
     "shell.execute_reply": "2025-02-28T20:34:40.432203Z"
    },
    "id": "hjpNqrJxKvKa",
    "papermill": {
     "duration": 0.032571,
     "end_time": "2025-02-28T20:34:40.434135",
     "exception": false,
     "start_time": "2025-02-28T20:34:40.401564",
     "status": "completed"
    },
    "tags": []
   },
   "outputs": [],
   "source": [
    "df['Comment'] = df['Comment'].apply(remove_html_tags)"
   ]
  },
  {
   "cell_type": "markdown",
   "id": "fba312dd",
   "metadata": {
    "id": "EmC4pHz0MN6m",
    "papermill": {
     "duration": 0.011097,
     "end_time": "2025-02-28T20:34:40.455657",
     "exception": false,
     "start_time": "2025-02-28T20:34:40.444560",
     "status": "completed"
    },
    "tags": []
   },
   "source": [
    "# **punctuation handling**"
   ]
  },
  {
   "cell_type": "code",
   "execution_count": 20,
   "id": "89b14dd4",
   "metadata": {
    "execution": {
     "iopub.execute_input": "2025-02-28T20:34:40.477621Z",
     "iopub.status.busy": "2025-02-28T20:34:40.477396Z",
     "iopub.status.idle": "2025-02-28T20:34:40.481850Z",
     "shell.execute_reply": "2025-02-28T20:34:40.481016Z"
    },
    "id": "1J7SIHHFLp0G",
    "outputId": "ebd16f4a-817c-45c3-a0b7-90bb0ec3a50a",
    "papermill": {
     "duration": 0.016991,
     "end_time": "2025-02-28T20:34:40.483142",
     "exception": false,
     "start_time": "2025-02-28T20:34:40.466151",
     "status": "completed"
    },
    "tags": []
   },
   "outputs": [
    {
     "data": {
      "text/plain": [
       "'!\"#$%&\\'()*+,-./:;<=>?@[\\\\]^_`{|}~'"
      ]
     },
     "execution_count": 20,
     "metadata": {},
     "output_type": "execute_result"
    }
   ],
   "source": [
    "import string,time\n",
    "string.punctuation"
   ]
  },
  {
   "cell_type": "code",
   "execution_count": 21,
   "id": "f719d563",
   "metadata": {
    "execution": {
     "iopub.execute_input": "2025-02-28T20:34:40.505417Z",
     "iopub.status.busy": "2025-02-28T20:34:40.505190Z",
     "iopub.status.idle": "2025-02-28T20:34:40.509630Z",
     "shell.execute_reply": "2025-02-28T20:34:40.508763Z"
    },
    "id": "8mi7UQiNMU9m",
    "outputId": "86e2c786-539c-4dcd-a7d4-be3b612b891b",
    "papermill": {
     "duration": 0.016651,
     "end_time": "2025-02-28T20:34:40.510959",
     "exception": false,
     "start_time": "2025-02-28T20:34:40.494308",
     "status": "completed"
    },
    "tags": []
   },
   "outputs": [
    {
     "data": {
      "text/plain": [
       "'!\"#$%&\\'()*+,-./:;<=>?@[\\\\]^_`{|}~'"
      ]
     },
     "execution_count": 21,
     "metadata": {},
     "output_type": "execute_result"
    }
   ],
   "source": [
    "exclude = string.punctuation\n",
    "exclude"
   ]
  },
  {
   "cell_type": "code",
   "execution_count": 22,
   "id": "1a73c492",
   "metadata": {
    "execution": {
     "iopub.execute_input": "2025-02-28T20:34:40.533263Z",
     "iopub.status.busy": "2025-02-28T20:34:40.533047Z",
     "iopub.status.idle": "2025-02-28T20:34:40.536107Z",
     "shell.execute_reply": "2025-02-28T20:34:40.535375Z"
    },
    "id": "BZ77IHKcNVOx",
    "papermill": {
     "duration": 0.015583,
     "end_time": "2025-02-28T20:34:40.537393",
     "exception": false,
     "start_time": "2025-02-28T20:34:40.521810",
     "status": "completed"
    },
    "tags": []
   },
   "outputs": [],
   "source": [
    "text = 'string. With. Punctuation?'"
   ]
  },
  {
   "cell_type": "code",
   "execution_count": 23,
   "id": "da1cad44",
   "metadata": {
    "execution": {
     "iopub.execute_input": "2025-02-28T20:34:40.559864Z",
     "iopub.status.busy": "2025-02-28T20:34:40.559618Z",
     "iopub.status.idle": "2025-02-28T20:34:40.562940Z",
     "shell.execute_reply": "2025-02-28T20:34:40.562269Z"
    },
    "id": "piZISWJAMdCo",
    "papermill": {
     "duration": 0.015831,
     "end_time": "2025-02-28T20:34:40.564111",
     "exception": false,
     "start_time": "2025-02-28T20:34:40.548280",
     "status": "completed"
    },
    "tags": []
   },
   "outputs": [],
   "source": [
    "\n",
    "def remove_punc1(text):\n",
    "    return text.translate(str.maketrans('', '', exclude))"
   ]
  },
  {
   "cell_type": "code",
   "execution_count": 24,
   "id": "bf633112",
   "metadata": {
    "execution": {
     "iopub.execute_input": "2025-02-28T20:34:40.586411Z",
     "iopub.status.busy": "2025-02-28T20:34:40.586189Z",
     "iopub.status.idle": "2025-02-28T20:34:40.590518Z",
     "shell.execute_reply": "2025-02-28T20:34:40.589883Z"
    },
    "id": "jvGoqSXRNaoP",
    "outputId": "a5c19e27-2412-4750-b8fb-9cd289b0d3a2",
    "papermill": {
     "duration": 0.016879,
     "end_time": "2025-02-28T20:34:40.591821",
     "exception": false,
     "start_time": "2025-02-28T20:34:40.574942",
     "status": "completed"
    },
    "tags": []
   },
   "outputs": [
    {
     "data": {
      "text/plain": [
       "'string With Punctuation'"
      ]
     },
     "execution_count": 24,
     "metadata": {},
     "output_type": "execute_result"
    }
   ],
   "source": [
    "remove_punc1(text)"
   ]
  },
  {
   "cell_type": "code",
   "execution_count": 25,
   "id": "b0be8ffe",
   "metadata": {
    "execution": {
     "iopub.execute_input": "2025-02-28T20:34:40.614465Z",
     "iopub.status.busy": "2025-02-28T20:34:40.614246Z",
     "iopub.status.idle": "2025-02-28T20:34:40.746676Z",
     "shell.execute_reply": "2025-02-28T20:34:40.746017Z"
    },
    "id": "Sg7T5Y3vM7ex",
    "papermill": {
     "duration": 0.14572,
     "end_time": "2025-02-28T20:34:40.748679",
     "exception": false,
     "start_time": "2025-02-28T20:34:40.602959",
     "status": "completed"
    },
    "tags": []
   },
   "outputs": [],
   "source": [
    "df['Comment']=df['Comment'].apply(remove_punc1)"
   ]
  },
  {
   "cell_type": "code",
   "execution_count": 26,
   "id": "37fefd76",
   "metadata": {
    "execution": {
     "iopub.execute_input": "2025-02-28T20:34:40.770952Z",
     "iopub.status.busy": "2025-02-28T20:34:40.770660Z",
     "iopub.status.idle": "2025-02-28T20:34:40.778627Z",
     "shell.execute_reply": "2025-02-28T20:34:40.777722Z"
    },
    "id": "8m5RTGJiNT0y",
    "outputId": "bfab86bb-caa5-4635-e24a-91d579c406c3",
    "papermill": {
     "duration": 0.020327,
     "end_time": "2025-02-28T20:34:40.779944",
     "exception": false,
     "start_time": "2025-02-28T20:34:40.759617",
     "status": "completed"
    },
    "tags": []
   },
   "outputs": [
    {
     "data": {
      "text/html": [
       "<div>\n",
       "<style scoped>\n",
       "    .dataframe tbody tr th:only-of-type {\n",
       "        vertical-align: middle;\n",
       "    }\n",
       "\n",
       "    .dataframe tbody tr th {\n",
       "        vertical-align: top;\n",
       "    }\n",
       "\n",
       "    .dataframe thead th {\n",
       "        text-align: right;\n",
       "    }\n",
       "</style>\n",
       "<table border=\"1\" class=\"dataframe\">\n",
       "  <thead>\n",
       "    <tr style=\"text-align: right;\">\n",
       "      <th></th>\n",
       "      <th>Comment</th>\n",
       "      <th>Sentiment</th>\n",
       "    </tr>\n",
       "  </thead>\n",
       "  <tbody>\n",
       "    <tr>\n",
       "      <th>10647</th>\n",
       "      <td>can’t wait for the new mix to drop i can feel ...</td>\n",
       "      <td>positive</td>\n",
       "    </tr>\n",
       "    <tr>\n",
       "      <th>5721</th>\n",
       "      <td>i like that it looks like a totally original r...</td>\n",
       "      <td>positive</td>\n",
       "    </tr>\n",
       "    <tr>\n",
       "      <th>4991</th>\n",
       "      <td>c’est le mercredi 7 septembre pas mardi</td>\n",
       "      <td>positive</td>\n",
       "    </tr>\n",
       "    <tr>\n",
       "      <th>1594</th>\n",
       "      <td>i absolutely loved baseball in wii so i hope i...</td>\n",
       "      <td>positive</td>\n",
       "    </tr>\n",
       "  </tbody>\n",
       "</table>\n",
       "</div>"
      ],
      "text/plain": [
       "                                                 Comment Sentiment\n",
       "10647  can’t wait for the new mix to drop i can feel ...  positive\n",
       "5721   i like that it looks like a totally original r...  positive\n",
       "4991            c’est le mercredi 7 septembre pas mardi   positive\n",
       "1594   i absolutely loved baseball in wii so i hope i...  positive"
      ]
     },
     "execution_count": 26,
     "metadata": {},
     "output_type": "execute_result"
    }
   ],
   "source": [
    "df.sample(4)"
   ]
  },
  {
   "cell_type": "markdown",
   "id": "cb412611",
   "metadata": {
    "id": "FHQxU6V6O8cX",
    "papermill": {
     "duration": 0.010228,
     "end_time": "2025-02-28T20:34:40.800996",
     "exception": false,
     "start_time": "2025-02-28T20:34:40.790768",
     "status": "completed"
    },
    "tags": []
   },
   "source": [
    "# **To remove comments in languages other than a specific one (e.g., English or Portuguese), you can use langdetect to detect and filter them.**"
   ]
  },
  {
   "cell_type": "code",
   "execution_count": 27,
   "id": "40c5c28f",
   "metadata": {
    "execution": {
     "iopub.execute_input": "2025-02-28T20:34:40.822978Z",
     "iopub.status.busy": "2025-02-28T20:34:40.822709Z",
     "iopub.status.idle": "2025-02-28T20:34:47.583848Z",
     "shell.execute_reply": "2025-02-28T20:34:47.583020Z"
    },
    "id": "-5lzX6czNs5o",
    "outputId": "894bbbf8-0291-405d-d5bc-5f9a7bdafa18",
    "papermill": {
     "duration": 6.773763,
     "end_time": "2025-02-28T20:34:47.585483",
     "exception": false,
     "start_time": "2025-02-28T20:34:40.811720",
     "status": "completed"
    },
    "tags": []
   },
   "outputs": [
    {
     "name": "stdout",
     "output_type": "stream",
     "text": [
      "Collecting langdetect\r\n",
      "  Downloading langdetect-1.0.9.tar.gz (981 kB)\r\n",
      "\u001b[2K     \u001b[90m━━━━━━━━━━━━━━━━━━━━━━━━━━━━━━━━━━━━━━━━\u001b[0m \u001b[32m981.5/981.5 kB\u001b[0m \u001b[31m14.8 MB/s\u001b[0m eta \u001b[36m0:00:00\u001b[0m\r\n",
      "\u001b[?25h  Preparing metadata (setup.py) ... \u001b[?25l\u001b[?25hdone\r\n",
      "Requirement already satisfied: six in /usr/local/lib/python3.10/dist-packages (from langdetect) (1.17.0)\r\n",
      "Building wheels for collected packages: langdetect\r\n",
      "  Building wheel for langdetect (setup.py) ... \u001b[?25l\u001b[?25hdone\r\n",
      "  Created wheel for langdetect: filename=langdetect-1.0.9-py3-none-any.whl size=993222 sha256=579c02b6b3c9f81b8d6de53ae6f2457d83b52dc17b02d99f948b6b54758c9f41\r\n",
      "  Stored in directory: /root/.cache/pip/wheels/95/03/7d/59ea870c70ce4e5a370638b5462a7711ab78fba2f655d05106\r\n",
      "Successfully built langdetect\r\n",
      "Installing collected packages: langdetect\r\n",
      "Successfully installed langdetect-1.0.9\r\n"
     ]
    }
   ],
   "source": [
    "!pip install langdetect  # Install langdetect (only once)\n",
    "\n",
    "from langdetect import detect"
   ]
  },
  {
   "cell_type": "code",
   "execution_count": 28,
   "id": "d7ee7099",
   "metadata": {
    "execution": {
     "iopub.execute_input": "2025-02-28T20:34:47.644142Z",
     "iopub.status.busy": "2025-02-28T20:34:47.643786Z",
     "iopub.status.idle": "2025-02-28T20:34:47.647718Z",
     "shell.execute_reply": "2025-02-28T20:34:47.646813Z"
    },
    "id": "kB2L02M5O9jG",
    "papermill": {
     "duration": 0.051953,
     "end_time": "2025-02-28T20:34:47.649140",
     "exception": false,
     "start_time": "2025-02-28T20:34:47.597187",
     "status": "completed"
    },
    "tags": []
   },
   "outputs": [],
   "source": [
    "def detect_language(text):\n",
    "    try:\n",
    "        return detect(text)\n",
    "    except:\n",
    "        return \"unknown\"  # Handle errors for empty or unrecognized text\n"
   ]
  },
  {
   "cell_type": "code",
   "execution_count": 29,
   "id": "d350e604",
   "metadata": {
    "execution": {
     "iopub.execute_input": "2025-02-28T20:34:47.671956Z",
     "iopub.status.busy": "2025-02-28T20:34:47.671694Z",
     "iopub.status.idle": "2025-02-28T20:35:56.973947Z",
     "shell.execute_reply": "2025-02-28T20:35:56.973006Z"
    },
    "id": "wHNcJa2ePDo_",
    "outputId": "9da93060-9dfe-4213-9d96-8aeb8d27f528",
    "papermill": {
     "duration": 69.326571,
     "end_time": "2025-02-28T20:35:56.986815",
     "exception": false,
     "start_time": "2025-02-28T20:34:47.660244",
     "status": "completed"
    },
    "tags": []
   },
   "outputs": [
    {
     "name": "stderr",
     "output_type": "stream",
     "text": [
      "<ipython-input-29-a09efb846df4>:3: SettingWithCopyWarning: \n",
      "A value is trying to be set on a copy of a slice from a DataFrame\n",
      "\n",
      "See the caveats in the documentation: https://pandas.pydata.org/pandas-docs/stable/user_guide/indexing.html#returning-a-view-versus-a-copy\n",
      "  df.drop(columns=[\"language\"], inplace=True)  # Remove extra column if not needed\n"
     ]
    }
   ],
   "source": [
    "df[\"language\"] = df[\"Comment\"].apply(detect_language)  # Detect language\n",
    "df = df[df[\"language\"].isin([\"en\"])]  # Keep only selected languages\n",
    "df.drop(columns=[\"language\"], inplace=True)  # Remove extra column if not needed\n"
   ]
  },
  {
   "cell_type": "code",
   "execution_count": 30,
   "id": "a2178b12",
   "metadata": {
    "execution": {
     "iopub.execute_input": "2025-02-28T20:35:57.010183Z",
     "iopub.status.busy": "2025-02-28T20:35:57.009935Z",
     "iopub.status.idle": "2025-02-28T20:35:57.020420Z",
     "shell.execute_reply": "2025-02-28T20:35:57.019732Z"
    },
    "id": "p-UoEnYpPLu4",
    "outputId": "68692402-5295-435c-81df-3c8f854dd22a",
    "papermill": {
     "duration": 0.023453,
     "end_time": "2025-02-28T20:35:57.021602",
     "exception": false,
     "start_time": "2025-02-28T20:35:56.998149",
     "status": "completed"
    },
    "tags": []
   },
   "outputs": [
    {
     "data": {
      "text/html": [
       "<div>\n",
       "<style scoped>\n",
       "    .dataframe tbody tr th:only-of-type {\n",
       "        vertical-align: middle;\n",
       "    }\n",
       "\n",
       "    .dataframe tbody tr th {\n",
       "        vertical-align: top;\n",
       "    }\n",
       "\n",
       "    .dataframe thead th {\n",
       "        text-align: right;\n",
       "    }\n",
       "</style>\n",
       "<table border=\"1\" class=\"dataframe\">\n",
       "  <thead>\n",
       "    <tr style=\"text-align: right;\">\n",
       "      <th></th>\n",
       "      <th>Comment</th>\n",
       "      <th>Sentiment</th>\n",
       "    </tr>\n",
       "  </thead>\n",
       "  <tbody>\n",
       "    <tr>\n",
       "      <th>9746</th>\n",
       "      <td>hello dona your food always looks delicious</td>\n",
       "      <td>positive</td>\n",
       "    </tr>\n",
       "    <tr>\n",
       "      <th>10385</th>\n",
       "      <td>we have s400 and other top class defense syste...</td>\n",
       "      <td>neutral</td>\n",
       "    </tr>\n",
       "    <tr>\n",
       "      <th>6693</th>\n",
       "      <td>as one vigilante once remarked when you want t...</td>\n",
       "      <td>neutral</td>\n",
       "    </tr>\n",
       "    <tr>\n",
       "      <th>9300</th>\n",
       "      <td>hands down gabriella is one of if not the best...</td>\n",
       "      <td>positive</td>\n",
       "    </tr>\n",
       "  </tbody>\n",
       "</table>\n",
       "</div>"
      ],
      "text/plain": [
       "                                                 Comment Sentiment\n",
       "9746        hello dona your food always looks delicious   positive\n",
       "10385  we have s400 and other top class defense syste...   neutral\n",
       "6693   as one vigilante once remarked when you want t...   neutral\n",
       "9300   hands down gabriella is one of if not the best...  positive"
      ]
     },
     "execution_count": 30,
     "metadata": {},
     "output_type": "execute_result"
    }
   ],
   "source": [
    "df.sample(4)"
   ]
  },
  {
   "cell_type": "code",
   "execution_count": 31,
   "id": "c6a63cd4",
   "metadata": {
    "execution": {
     "iopub.execute_input": "2025-02-28T20:35:57.044971Z",
     "iopub.status.busy": "2025-02-28T20:35:57.044744Z",
     "iopub.status.idle": "2025-02-28T20:35:57.049054Z",
     "shell.execute_reply": "2025-02-28T20:35:57.048246Z"
    },
    "id": "yHsxOwfVP9pL",
    "outputId": "26d18545-5fbf-4fcf-ce45-210a3b1cb34f",
    "papermill": {
     "duration": 0.017041,
     "end_time": "2025-02-28T20:35:57.050238",
     "exception": false,
     "start_time": "2025-02-28T20:35:57.033197",
     "status": "completed"
    },
    "tags": []
   },
   "outputs": [
    {
     "name": "stdout",
     "output_type": "stream",
     "text": [
      "Comment      i am almost at my 20th hour of watching tedx t...\n",
      "Sentiment                                             positive\n",
      "Name: 1911, dtype: object\n"
     ]
    }
   ],
   "source": [
    "print(df.iloc[1630])  # Indexing starts from 0, so use 163"
   ]
  },
  {
   "cell_type": "code",
   "execution_count": 32,
   "id": "56640b8e",
   "metadata": {
    "execution": {
     "iopub.execute_input": "2025-02-28T20:35:57.073317Z",
     "iopub.status.busy": "2025-02-28T20:35:57.073107Z",
     "iopub.status.idle": "2025-02-28T20:35:57.077249Z",
     "shell.execute_reply": "2025-02-28T20:35:57.076449Z"
    },
    "id": "TeAmhwgMQHsO",
    "outputId": "19c339a1-b7d7-4912-d346-8df0170adf7e",
    "papermill": {
     "duration": 0.016974,
     "end_time": "2025-02-28T20:35:57.078461",
     "exception": false,
     "start_time": "2025-02-28T20:35:57.061487",
     "status": "completed"
    },
    "tags": []
   },
   "outputs": [
    {
     "data": {
      "text/plain": [
       "(15882, 2)"
      ]
     },
     "execution_count": 32,
     "metadata": {},
     "output_type": "execute_result"
    }
   ],
   "source": [
    "df.shape"
   ]
  },
  {
   "cell_type": "markdown",
   "id": "6550e635",
   "metadata": {
    "id": "WiXu6bQERJvE",
    "papermill": {
     "duration": 0.011153,
     "end_time": "2025-02-28T20:35:57.101296",
     "exception": false,
     "start_time": "2025-02-28T20:35:57.090143",
     "status": "completed"
    },
    "tags": []
   },
   "source": [
    "# **stopwords**"
   ]
  },
  {
   "cell_type": "code",
   "execution_count": 33,
   "id": "ff5298d5",
   "metadata": {
    "execution": {
     "iopub.execute_input": "2025-02-28T20:35:57.124926Z",
     "iopub.status.busy": "2025-02-28T20:35:57.124683Z",
     "iopub.status.idle": "2025-02-28T20:35:57.130996Z",
     "shell.execute_reply": "2025-02-28T20:35:57.130212Z"
    },
    "id": "4hGZyq4fQN_T",
    "outputId": "5492f70a-1549-49e2-da24-a4d074dc7138",
    "papermill": {
     "duration": 0.019324,
     "end_time": "2025-02-28T20:35:57.132141",
     "exception": false,
     "start_time": "2025-02-28T20:35:57.112817",
     "status": "completed"
    },
    "tags": []
   },
   "outputs": [
    {
     "name": "stdout",
     "output_type": "stream",
     "text": [
      "[nltk_data] Downloading package stopwords to /usr/share/nltk_data...\n",
      "[nltk_data]   Package stopwords is already up-to-date!\n"
     ]
    },
    {
     "data": {
      "text/plain": [
       "True"
      ]
     },
     "execution_count": 33,
     "metadata": {},
     "output_type": "execute_result"
    }
   ],
   "source": [
    "from nltk.corpus import stopwords\n",
    "import nltk\n",
    "nltk.download('stopwords')"
   ]
  },
  {
   "cell_type": "code",
   "execution_count": 34,
   "id": "0a83e133",
   "metadata": {
    "execution": {
     "iopub.execute_input": "2025-02-28T20:35:57.156050Z",
     "iopub.status.busy": "2025-02-28T20:35:57.155798Z",
     "iopub.status.idle": "2025-02-28T20:35:57.163200Z",
     "shell.execute_reply": "2025-02-28T20:35:57.162529Z"
    },
    "id": "v-8I0FTSRODU",
    "outputId": "916c1cdf-fd7c-4092-f997-fd98018dbb5a",
    "papermill": {
     "duration": 0.020748,
     "end_time": "2025-02-28T20:35:57.164440",
     "exception": false,
     "start_time": "2025-02-28T20:35:57.143692",
     "status": "completed"
    },
    "tags": []
   },
   "outputs": [
    {
     "data": {
      "text/plain": [
       "['a',\n",
       " 'about',\n",
       " 'above',\n",
       " 'after',\n",
       " 'again',\n",
       " 'against',\n",
       " 'ain',\n",
       " 'all',\n",
       " 'am',\n",
       " 'an',\n",
       " 'and',\n",
       " 'any',\n",
       " 'are',\n",
       " 'aren',\n",
       " \"aren't\",\n",
       " 'as',\n",
       " 'at',\n",
       " 'be',\n",
       " 'because',\n",
       " 'been',\n",
       " 'before',\n",
       " 'being',\n",
       " 'below',\n",
       " 'between',\n",
       " 'both',\n",
       " 'but',\n",
       " 'by',\n",
       " 'can',\n",
       " 'couldn',\n",
       " \"couldn't\",\n",
       " 'd',\n",
       " 'did',\n",
       " 'didn',\n",
       " \"didn't\",\n",
       " 'do',\n",
       " 'does',\n",
       " 'doesn',\n",
       " \"doesn't\",\n",
       " 'doing',\n",
       " 'don',\n",
       " \"don't\",\n",
       " 'down',\n",
       " 'during',\n",
       " 'each',\n",
       " 'few',\n",
       " 'for',\n",
       " 'from',\n",
       " 'further',\n",
       " 'had',\n",
       " 'hadn',\n",
       " \"hadn't\",\n",
       " 'has',\n",
       " 'hasn',\n",
       " \"hasn't\",\n",
       " 'have',\n",
       " 'haven',\n",
       " \"haven't\",\n",
       " 'having',\n",
       " 'he',\n",
       " \"he'd\",\n",
       " \"he'll\",\n",
       " 'her',\n",
       " 'here',\n",
       " 'hers',\n",
       " 'herself',\n",
       " \"he's\",\n",
       " 'him',\n",
       " 'himself',\n",
       " 'his',\n",
       " 'how',\n",
       " 'i',\n",
       " \"i'd\",\n",
       " 'if',\n",
       " \"i'll\",\n",
       " \"i'm\",\n",
       " 'in',\n",
       " 'into',\n",
       " 'is',\n",
       " 'isn',\n",
       " \"isn't\",\n",
       " 'it',\n",
       " \"it'd\",\n",
       " \"it'll\",\n",
       " \"it's\",\n",
       " 'its',\n",
       " 'itself',\n",
       " \"i've\",\n",
       " 'just',\n",
       " 'll',\n",
       " 'm',\n",
       " 'ma',\n",
       " 'me',\n",
       " 'mightn',\n",
       " \"mightn't\",\n",
       " 'more',\n",
       " 'most',\n",
       " 'mustn',\n",
       " \"mustn't\",\n",
       " 'my',\n",
       " 'myself',\n",
       " 'needn',\n",
       " \"needn't\",\n",
       " 'no',\n",
       " 'nor',\n",
       " 'not',\n",
       " 'now',\n",
       " 'o',\n",
       " 'of',\n",
       " 'off',\n",
       " 'on',\n",
       " 'once',\n",
       " 'only',\n",
       " 'or',\n",
       " 'other',\n",
       " 'our',\n",
       " 'ours',\n",
       " 'ourselves',\n",
       " 'out',\n",
       " 'over',\n",
       " 'own',\n",
       " 're',\n",
       " 's',\n",
       " 'same',\n",
       " 'shan',\n",
       " \"shan't\",\n",
       " 'she',\n",
       " \"she'd\",\n",
       " \"she'll\",\n",
       " \"she's\",\n",
       " 'should',\n",
       " 'shouldn',\n",
       " \"shouldn't\",\n",
       " \"should've\",\n",
       " 'so',\n",
       " 'some',\n",
       " 'such',\n",
       " 't',\n",
       " 'than',\n",
       " 'that',\n",
       " \"that'll\",\n",
       " 'the',\n",
       " 'their',\n",
       " 'theirs',\n",
       " 'them',\n",
       " 'themselves',\n",
       " 'then',\n",
       " 'there',\n",
       " 'these',\n",
       " 'they',\n",
       " \"they'd\",\n",
       " \"they'll\",\n",
       " \"they're\",\n",
       " \"they've\",\n",
       " 'this',\n",
       " 'those',\n",
       " 'through',\n",
       " 'to',\n",
       " 'too',\n",
       " 'under',\n",
       " 'until',\n",
       " 'up',\n",
       " 've',\n",
       " 'very',\n",
       " 'was',\n",
       " 'wasn',\n",
       " \"wasn't\",\n",
       " 'we',\n",
       " \"we'd\",\n",
       " \"we'll\",\n",
       " \"we're\",\n",
       " 'were',\n",
       " 'weren',\n",
       " \"weren't\",\n",
       " \"we've\",\n",
       " 'what',\n",
       " 'when',\n",
       " 'where',\n",
       " 'which',\n",
       " 'while',\n",
       " 'who',\n",
       " 'whom',\n",
       " 'why',\n",
       " 'will',\n",
       " 'with',\n",
       " 'won',\n",
       " \"won't\",\n",
       " 'wouldn',\n",
       " \"wouldn't\",\n",
       " 'y',\n",
       " 'you',\n",
       " \"you'd\",\n",
       " \"you'll\",\n",
       " 'your',\n",
       " \"you're\",\n",
       " 'yours',\n",
       " 'yourself',\n",
       " 'yourselves',\n",
       " \"you've\"]"
      ]
     },
     "execution_count": 34,
     "metadata": {},
     "output_type": "execute_result"
    }
   ],
   "source": [
    "stopwords.words('english')"
   ]
  },
  {
   "cell_type": "code",
   "execution_count": 35,
   "id": "c3e37346",
   "metadata": {
    "execution": {
     "iopub.execute_input": "2025-02-28T20:35:57.189030Z",
     "iopub.status.busy": "2025-02-28T20:35:57.188756Z",
     "iopub.status.idle": "2025-02-28T20:35:57.192757Z",
     "shell.execute_reply": "2025-02-28T20:35:57.191904Z"
    },
    "id": "4LmMj1L4RRx-",
    "papermill": {
     "duration": 0.017428,
     "end_time": "2025-02-28T20:35:57.194085",
     "exception": false,
     "start_time": "2025-02-28T20:35:57.176657",
     "status": "completed"
    },
    "tags": []
   },
   "outputs": [],
   "source": [
    "def remove_stopwords(text):\n",
    "    new_text = []\n",
    "\n",
    "    for word in text.split():\n",
    "        if word in stopwords.words('english'):\n",
    "            new_text.append('')\n",
    "        else:\n",
    "            new_text.append(word)\n",
    "    x = new_text[:]\n",
    "    new_text.clear()\n",
    "    return \" \".join(x)"
   ]
  },
  {
   "cell_type": "code",
   "execution_count": 36,
   "id": "cbf46634",
   "metadata": {
    "execution": {
     "iopub.execute_input": "2025-02-28T20:35:57.218727Z",
     "iopub.status.busy": "2025-02-28T20:35:57.218507Z",
     "iopub.status.idle": "2025-02-28T20:36:51.646024Z",
     "shell.execute_reply": "2025-02-28T20:36:51.645098Z"
    },
    "id": "uH2F7KdXRhGT",
    "outputId": "ea7f93b2-ef8d-4f29-e85b-131fe5bbb530",
    "papermill": {
     "duration": 54.453292,
     "end_time": "2025-02-28T20:36:51.659282",
     "exception": false,
     "start_time": "2025-02-28T20:35:57.205990",
     "status": "completed"
    },
    "tags": []
   },
   "outputs": [
    {
     "data": {
      "text/plain": [
       "0        lets  forget  apple pay  2014 required  brand ...\n",
       "1          nz 50  retailers don’t even  contactless cre...\n",
       "2          forever acknowledge  channel   help   lesson...\n",
       "3        whenever  go   place  doesn’t take apple pay d...\n",
       "4        apple pay   convenient secure  easy  use  used...\n",
       "                               ...                        \n",
       "18402    back    learning  code  didn’t know anything  ...\n",
       "18403     really like  point  engineering toolboxes  th...\n",
       "18404    i’ve  started exploring  field     really good...\n",
       "18406    hey daniel  discovered  channel  couple days a...\n",
       "18407      great focus  key  playful approach  also spe...\n",
       "Name: Comment, Length: 15882, dtype: object"
      ]
     },
     "execution_count": 36,
     "metadata": {},
     "output_type": "execute_result"
    }
   ],
   "source": [
    "\n",
    "df['Comment'].apply(remove_stopwords)"
   ]
  },
  {
   "cell_type": "markdown",
   "id": "87b98251",
   "metadata": {
    "id": "BnuMeLL7TVSZ",
    "papermill": {
     "duration": 0.012352,
     "end_time": "2025-02-28T20:36:51.683815",
     "exception": false,
     "start_time": "2025-02-28T20:36:51.671463",
     "status": "completed"
    },
    "tags": []
   },
   "source": [
    "# **Target Variable Splitting¶**"
   ]
  },
  {
   "cell_type": "code",
   "execution_count": 37,
   "id": "6db64cb6",
   "metadata": {
    "execution": {
     "iopub.execute_input": "2025-02-28T20:36:51.708494Z",
     "iopub.status.busy": "2025-02-28T20:36:51.708254Z",
     "iopub.status.idle": "2025-02-28T20:36:51.712891Z",
     "shell.execute_reply": "2025-02-28T20:36:51.712237Z"
    },
    "id": "AbLJky95Roy2",
    "papermill": {
     "duration": 0.018413,
     "end_time": "2025-02-28T20:36:51.714139",
     "exception": false,
     "start_time": "2025-02-28T20:36:51.695726",
     "status": "completed"
    },
    "tags": []
   },
   "outputs": [],
   "source": [
    "# Split data to be used in the models\n",
    "# Create matrix of features\n",
    "x = df.drop('Sentiment', axis = 1) # grabs everything else but 'Price'\n",
    "\n",
    "# Create target variable\n",
    "y = df['Sentiment'] # y is the column we're trying to predict"
   ]
  },
  {
   "cell_type": "markdown",
   "id": "28cc120c",
   "metadata": {
    "id": "ya9v70nsTqXW",
    "papermill": {
     "duration": 0.011814,
     "end_time": "2025-02-28T20:36:51.737559",
     "exception": false,
     "start_time": "2025-02-28T20:36:51.725745",
     "status": "completed"
    },
    "tags": []
   },
   "source": [
    "# **label encoder¶**"
   ]
  },
  {
   "cell_type": "code",
   "execution_count": 38,
   "id": "788b0ea8",
   "metadata": {
    "execution": {
     "iopub.execute_input": "2025-02-28T20:36:51.762297Z",
     "iopub.status.busy": "2025-02-28T20:36:51.762075Z",
     "iopub.status.idle": "2025-02-28T20:36:51.765089Z",
     "shell.execute_reply": "2025-02-28T20:36:51.764430Z"
    },
    "id": "5bo8McN7TlGZ",
    "papermill": {
     "duration": 0.016419,
     "end_time": "2025-02-28T20:36:51.766330",
     "exception": false,
     "start_time": "2025-02-28T20:36:51.749911",
     "status": "completed"
    },
    "tags": []
   },
   "outputs": [],
   "source": [
    "# import labelencoder from sklearn\n",
    "from sklearn.preprocessing import LabelEncoder"
   ]
  },
  {
   "cell_type": "code",
   "execution_count": 39,
   "id": "e7364268",
   "metadata": {
    "execution": {
     "iopub.execute_input": "2025-02-28T20:36:51.790586Z",
     "iopub.status.busy": "2025-02-28T20:36:51.790372Z",
     "iopub.status.idle": "2025-02-28T20:36:51.796427Z",
     "shell.execute_reply": "2025-02-28T20:36:51.795800Z"
    },
    "id": "QSntMqBvTv0u",
    "papermill": {
     "duration": 0.019543,
     "end_time": "2025-02-28T20:36:51.797643",
     "exception": false,
     "start_time": "2025-02-28T20:36:51.778100",
     "status": "completed"
    },
    "tags": []
   },
   "outputs": [],
   "source": [
    "# Encode the target variable\n",
    "encoder = LabelEncoder()\n",
    "y = encoder.fit_transform(y)"
   ]
  },
  {
   "cell_type": "code",
   "execution_count": 40,
   "id": "c36ccf8b",
   "metadata": {
    "execution": {
     "iopub.execute_input": "2025-02-28T20:36:51.821748Z",
     "iopub.status.busy": "2025-02-28T20:36:51.821542Z",
     "iopub.status.idle": "2025-02-28T20:36:51.826206Z",
     "shell.execute_reply": "2025-02-28T20:36:51.825342Z"
    },
    "id": "HGs2TLIaTyot",
    "outputId": "9a73abd7-2cba-4f9d-880a-fcce78fd4f47",
    "papermill": {
     "duration": 0.018092,
     "end_time": "2025-02-28T20:36:51.827492",
     "exception": false,
     "start_time": "2025-02-28T20:36:51.809400",
     "status": "completed"
    },
    "tags": []
   },
   "outputs": [
    {
     "data": {
      "text/plain": [
       "array([1, 0, 2, ..., 2, 2, 2])"
      ]
     },
     "execution_count": 40,
     "metadata": {},
     "output_type": "execute_result"
    }
   ],
   "source": [
    "y"
   ]
  },
  {
   "cell_type": "code",
   "execution_count": 41,
   "id": "85fe39a2",
   "metadata": {
    "execution": {
     "iopub.execute_input": "2025-02-28T20:36:51.852239Z",
     "iopub.status.busy": "2025-02-28T20:36:51.852039Z",
     "iopub.status.idle": "2025-02-28T20:36:51.857981Z",
     "shell.execute_reply": "2025-02-28T20:36:51.857328Z"
    },
    "id": "NVb4y4K-T-Xp",
    "papermill": {
     "duration": 0.019783,
     "end_time": "2025-02-28T20:36:51.859212",
     "exception": false,
     "start_time": "2025-02-28T20:36:51.839429",
     "status": "completed"
    },
    "tags": []
   },
   "outputs": [],
   "source": [
    "from sklearn.model_selection import train_test_split\n",
    "x_train,x_test,y_train,y_test = train_test_split(x,y,test_size=0.2,random_state=1)"
   ]
  },
  {
   "cell_type": "code",
   "execution_count": 42,
   "id": "8cafb493",
   "metadata": {
    "execution": {
     "iopub.execute_input": "2025-02-28T20:36:51.883762Z",
     "iopub.status.busy": "2025-02-28T20:36:51.883566Z",
     "iopub.status.idle": "2025-02-28T20:36:51.887615Z",
     "shell.execute_reply": "2025-02-28T20:36:51.886967Z"
    },
    "id": "G5SpPpUuVVXz",
    "outputId": "ad41d9f9-b55c-49c9-eed9-df75e2999c87",
    "papermill": {
     "duration": 0.017804,
     "end_time": "2025-02-28T20:36:51.888925",
     "exception": false,
     "start_time": "2025-02-28T20:36:51.871121",
     "status": "completed"
    },
    "tags": []
   },
   "outputs": [
    {
     "data": {
      "text/plain": [
       "(12705, 1)"
      ]
     },
     "execution_count": 42,
     "metadata": {},
     "output_type": "execute_result"
    }
   ],
   "source": [
    "\n",
    "x_train.shape"
   ]
  },
  {
   "cell_type": "code",
   "execution_count": 43,
   "id": "78ff656a",
   "metadata": {
    "execution": {
     "iopub.execute_input": "2025-02-28T20:36:51.913687Z",
     "iopub.status.busy": "2025-02-28T20:36:51.913489Z",
     "iopub.status.idle": "2025-02-28T20:36:51.917639Z",
     "shell.execute_reply": "2025-02-28T20:36:51.916886Z"
    },
    "id": "y7vWKpoqabpO",
    "outputId": "e227565a-9cfa-4e1e-e1f5-639aef62617b",
    "papermill": {
     "duration": 0.017844,
     "end_time": "2025-02-28T20:36:51.918925",
     "exception": false,
     "start_time": "2025-02-28T20:36:51.901081",
     "status": "completed"
    },
    "tags": []
   },
   "outputs": [
    {
     "data": {
      "text/plain": [
       "(3177, 1)"
      ]
     },
     "execution_count": 43,
     "metadata": {},
     "output_type": "execute_result"
    }
   ],
   "source": [
    "x_test.shape"
   ]
  },
  {
   "cell_type": "markdown",
   "id": "5b40568b",
   "metadata": {
    "id": "Du87hQReay48",
    "papermill": {
     "duration": 0.011498,
     "end_time": "2025-02-28T20:36:51.942174",
     "exception": false,
     "start_time": "2025-02-28T20:36:51.930676",
     "status": "completed"
    },
    "tags": []
   },
   "source": [
    "# **FEATURE EXTRACTION**"
   ]
  },
  {
   "cell_type": "markdown",
   "id": "d731751d",
   "metadata": {
    "id": "s4rjDALEatuQ",
    "papermill": {
     "duration": 0.011768,
     "end_time": "2025-02-28T20:36:51.965730",
     "exception": false,
     "start_time": "2025-02-28T20:36:51.953962",
     "status": "completed"
    },
    "tags": []
   },
   "source": [
    "# **BOW**"
   ]
  },
  {
   "cell_type": "code",
   "execution_count": 44,
   "id": "c9e065af",
   "metadata": {
    "execution": {
     "iopub.execute_input": "2025-02-28T20:36:51.990220Z",
     "iopub.status.busy": "2025-02-28T20:36:51.989980Z",
     "iopub.status.idle": "2025-02-28T20:36:51.993113Z",
     "shell.execute_reply": "2025-02-28T20:36:51.992363Z"
    },
    "id": "GtIOotdIaevu",
    "papermill": {
     "duration": 0.016912,
     "end_time": "2025-02-28T20:36:51.994358",
     "exception": false,
     "start_time": "2025-02-28T20:36:51.977446",
     "status": "completed"
    },
    "tags": []
   },
   "outputs": [],
   "source": [
    "\n",
    "# Applying BoW\n",
    "from sklearn.feature_extraction.text import CountVectorizer\n",
    "cv = CountVectorizer()"
   ]
  },
  {
   "cell_type": "code",
   "execution_count": 45,
   "id": "787df19f",
   "metadata": {
    "execution": {
     "iopub.execute_input": "2025-02-28T20:36:52.018574Z",
     "iopub.status.busy": "2025-02-28T20:36:52.018357Z",
     "iopub.status.idle": "2025-02-28T20:36:53.198437Z",
     "shell.execute_reply": "2025-02-28T20:36:53.197460Z"
    },
    "id": "YTWzEgYQa66h",
    "papermill": {
     "duration": 1.193942,
     "end_time": "2025-02-28T20:36:53.200174",
     "exception": false,
     "start_time": "2025-02-28T20:36:52.006232",
     "status": "completed"
    },
    "tags": []
   },
   "outputs": [],
   "source": [
    "\n",
    "x_train_bow = cv.fit_transform(x_train['Comment']).toarray()\n",
    "x_test_bow = cv.transform(x_test['Comment']).toarray()\n"
   ]
  },
  {
   "cell_type": "code",
   "execution_count": 46,
   "id": "c6c0619a",
   "metadata": {
    "execution": {
     "iopub.execute_input": "2025-02-28T20:36:53.225711Z",
     "iopub.status.busy": "2025-02-28T20:36:53.225479Z",
     "iopub.status.idle": "2025-02-28T20:36:53.230181Z",
     "shell.execute_reply": "2025-02-28T20:36:53.229512Z"
    },
    "id": "JJc-AtgEbSf-",
    "outputId": "3230cbc7-af10-4d76-bd25-2e032cba4b32",
    "papermill": {
     "duration": 0.018449,
     "end_time": "2025-02-28T20:36:53.231344",
     "exception": false,
     "start_time": "2025-02-28T20:36:53.212895",
     "status": "completed"
    },
    "tags": []
   },
   "outputs": [
    {
     "data": {
      "text/plain": [
       "array([[0, 0, 0, ..., 0, 0, 0],\n",
       "       [0, 0, 0, ..., 0, 0, 0],\n",
       "       [0, 0, 0, ..., 0, 0, 0],\n",
       "       ...,\n",
       "       [0, 0, 0, ..., 0, 0, 0],\n",
       "       [0, 0, 0, ..., 0, 0, 0],\n",
       "       [0, 0, 0, ..., 0, 0, 0]])"
      ]
     },
     "execution_count": 46,
     "metadata": {},
     "output_type": "execute_result"
    }
   ],
   "source": [
    "\n",
    "x_train_bow"
   ]
  },
  {
   "cell_type": "code",
   "execution_count": 47,
   "id": "e8b91d28",
   "metadata": {
    "execution": {
     "iopub.execute_input": "2025-02-28T20:36:53.256272Z",
     "iopub.status.busy": "2025-02-28T20:36:53.256049Z",
     "iopub.status.idle": "2025-02-28T20:36:53.260461Z",
     "shell.execute_reply": "2025-02-28T20:36:53.259801Z"
    },
    "id": "ja6HybeebIvw",
    "outputId": "991436de-50da-40ba-f26a-97074e08fcf9",
    "papermill": {
     "duration": 0.01831,
     "end_time": "2025-02-28T20:36:53.261750",
     "exception": false,
     "start_time": "2025-02-28T20:36:53.243440",
     "status": "completed"
    },
    "tags": []
   },
   "outputs": [
    {
     "data": {
      "text/plain": [
       "array([2, 2, 1, ..., 2, 2, 2])"
      ]
     },
     "execution_count": 47,
     "metadata": {},
     "output_type": "execute_result"
    }
   ],
   "source": [
    "y_train"
   ]
  },
  {
   "cell_type": "code",
   "execution_count": 48,
   "id": "faff5e38",
   "metadata": {
    "execution": {
     "iopub.execute_input": "2025-02-28T20:36:53.288004Z",
     "iopub.status.busy": "2025-02-28T20:36:53.287762Z",
     "iopub.status.idle": "2025-02-28T20:38:43.725315Z",
     "shell.execute_reply": "2025-02-28T20:38:43.724404Z"
    },
    "id": "HLcqHSpVcIbP",
    "outputId": "bcfde8ce-ca29-4975-9125-5f6e179d91d7",
    "papermill": {
     "duration": 110.464809,
     "end_time": "2025-02-28T20:38:43.739737",
     "exception": false,
     "start_time": "2025-02-28T20:36:53.274928",
     "status": "completed"
    },
    "tags": []
   },
   "outputs": [
    {
     "name": "stdout",
     "output_type": "stream",
     "text": [
      "RandomForest Classifier \n"
     ]
    },
    {
     "data": {
      "text/html": [
       "<style>#sk-container-id-1 {color: black;background-color: white;}#sk-container-id-1 pre{padding: 0;}#sk-container-id-1 div.sk-toggleable {background-color: white;}#sk-container-id-1 label.sk-toggleable__label {cursor: pointer;display: block;width: 100%;margin-bottom: 0;padding: 0.3em;box-sizing: border-box;text-align: center;}#sk-container-id-1 label.sk-toggleable__label-arrow:before {content: \"▸\";float: left;margin-right: 0.25em;color: #696969;}#sk-container-id-1 label.sk-toggleable__label-arrow:hover:before {color: black;}#sk-container-id-1 div.sk-estimator:hover label.sk-toggleable__label-arrow:before {color: black;}#sk-container-id-1 div.sk-toggleable__content {max-height: 0;max-width: 0;overflow: hidden;text-align: left;background-color: #f0f8ff;}#sk-container-id-1 div.sk-toggleable__content pre {margin: 0.2em;color: black;border-radius: 0.25em;background-color: #f0f8ff;}#sk-container-id-1 input.sk-toggleable__control:checked~div.sk-toggleable__content {max-height: 200px;max-width: 100%;overflow: auto;}#sk-container-id-1 input.sk-toggleable__control:checked~label.sk-toggleable__label-arrow:before {content: \"▾\";}#sk-container-id-1 div.sk-estimator input.sk-toggleable__control:checked~label.sk-toggleable__label {background-color: #d4ebff;}#sk-container-id-1 div.sk-label input.sk-toggleable__control:checked~label.sk-toggleable__label {background-color: #d4ebff;}#sk-container-id-1 input.sk-hidden--visually {border: 0;clip: rect(1px 1px 1px 1px);clip: rect(1px, 1px, 1px, 1px);height: 1px;margin: -1px;overflow: hidden;padding: 0;position: absolute;width: 1px;}#sk-container-id-1 div.sk-estimator {font-family: monospace;background-color: #f0f8ff;border: 1px dotted black;border-radius: 0.25em;box-sizing: border-box;margin-bottom: 0.5em;}#sk-container-id-1 div.sk-estimator:hover {background-color: #d4ebff;}#sk-container-id-1 div.sk-parallel-item::after {content: \"\";width: 100%;border-bottom: 1px solid gray;flex-grow: 1;}#sk-container-id-1 div.sk-label:hover label.sk-toggleable__label {background-color: #d4ebff;}#sk-container-id-1 div.sk-serial::before {content: \"\";position: absolute;border-left: 1px solid gray;box-sizing: border-box;top: 0;bottom: 0;left: 50%;z-index: 0;}#sk-container-id-1 div.sk-serial {display: flex;flex-direction: column;align-items: center;background-color: white;padding-right: 0.2em;padding-left: 0.2em;position: relative;}#sk-container-id-1 div.sk-item {position: relative;z-index: 1;}#sk-container-id-1 div.sk-parallel {display: flex;align-items: stretch;justify-content: center;background-color: white;position: relative;}#sk-container-id-1 div.sk-item::before, #sk-container-id-1 div.sk-parallel-item::before {content: \"\";position: absolute;border-left: 1px solid gray;box-sizing: border-box;top: 0;bottom: 0;left: 50%;z-index: -1;}#sk-container-id-1 div.sk-parallel-item {display: flex;flex-direction: column;z-index: 1;position: relative;background-color: white;}#sk-container-id-1 div.sk-parallel-item:first-child::after {align-self: flex-end;width: 50%;}#sk-container-id-1 div.sk-parallel-item:last-child::after {align-self: flex-start;width: 50%;}#sk-container-id-1 div.sk-parallel-item:only-child::after {width: 0;}#sk-container-id-1 div.sk-dashed-wrapped {border: 1px dashed gray;margin: 0 0.4em 0.5em 0.4em;box-sizing: border-box;padding-bottom: 0.4em;background-color: white;}#sk-container-id-1 div.sk-label label {font-family: monospace;font-weight: bold;display: inline-block;line-height: 1.2em;}#sk-container-id-1 div.sk-label-container {text-align: center;}#sk-container-id-1 div.sk-container {/* jupyter's `normalize.less` sets `[hidden] { display: none; }` but bootstrap.min.css set `[hidden] { display: none !important; }` so we also need the `!important` here to be able to override the default hidden behavior on the sphinx rendered scikit-learn.org. See: https://github.com/scikit-learn/scikit-learn/issues/21755 */display: inline-block !important;position: relative;}#sk-container-id-1 div.sk-text-repr-fallback {display: none;}</style><div id=\"sk-container-id-1\" class=\"sk-top-container\"><div class=\"sk-text-repr-fallback\"><pre>RandomForestClassifier()</pre><b>In a Jupyter environment, please rerun this cell to show the HTML representation or trust the notebook. <br />On GitHub, the HTML representation is unable to render, please try loading this page with nbviewer.org.</b></div><div class=\"sk-container\" hidden><div class=\"sk-item\"><div class=\"sk-estimator sk-toggleable\"><input class=\"sk-toggleable__control sk-hidden--visually\" id=\"sk-estimator-id-1\" type=\"checkbox\" checked><label for=\"sk-estimator-id-1\" class=\"sk-toggleable__label sk-toggleable__label-arrow\">RandomForestClassifier</label><div class=\"sk-toggleable__content\"><pre>RandomForestClassifier()</pre></div></div></div></div></div>"
      ],
      "text/plain": [
       "RandomForestClassifier()"
      ]
     },
     "execution_count": 48,
     "metadata": {},
     "output_type": "execute_result"
    }
   ],
   "source": [
    "from sklearn.ensemble import RandomForestClassifier\n",
    "print('RandomForest Classifier ')\n",
    "rf = RandomForestClassifier()\n",
    "\n",
    "rf.fit(x_train_bow,y_train)\n"
   ]
  },
  {
   "cell_type": "code",
   "execution_count": 49,
   "id": "72cead59",
   "metadata": {
    "execution": {
     "iopub.execute_input": "2025-02-28T20:38:43.765400Z",
     "iopub.status.busy": "2025-02-28T20:38:43.765165Z",
     "iopub.status.idle": "2025-02-28T20:38:44.518995Z",
     "shell.execute_reply": "2025-02-28T20:38:44.517941Z"
    },
    "id": "_E5eejozc-lB",
    "outputId": "683b5b9d-fe28-4d74-885c-c15d18d0247a",
    "papermill": {
     "duration": 0.768091,
     "end_time": "2025-02-28T20:38:44.520416",
     "exception": false,
     "start_time": "2025-02-28T20:38:43.752325",
     "status": "completed"
    },
    "tags": []
   },
   "outputs": [
    {
     "name": "stdout",
     "output_type": "stream",
     "text": [
      "RandomForest Classifier\n",
      "------------------------------------------------------------\n",
      "Accuracy 65.56 %\n"
     ]
    }
   ],
   "source": [
    "from sklearn.metrics import accuracy_score\n",
    "# prediction from the model\n",
    "y_pred = rf.predict(x_test_bow)\n",
    "# Score It\n",
    "\n",
    "print('RandomForest Classifier')\n",
    "# Accuracy\n",
    "print('--'*30)\n",
    "rf_accuracy = round(accuracy_score(y_test, y_pred) * 100,2)\n",
    "print('Accuracy', rf_accuracy,'%')"
   ]
  },
  {
   "cell_type": "markdown",
   "id": "7aef6533",
   "metadata": {
    "id": "9RZPi8maeBf9",
    "papermill": {
     "duration": 0.012278,
     "end_time": "2025-02-28T20:38:44.546187",
     "exception": false,
     "start_time": "2025-02-28T20:38:44.533909",
     "status": "completed"
    },
    "tags": []
   },
   "source": [
    "# **N grams**"
   ]
  },
  {
   "cell_type": "code",
   "execution_count": 50,
   "id": "c2780d11",
   "metadata": {
    "execution": {
     "iopub.execute_input": "2025-02-28T20:38:44.571534Z",
     "iopub.status.busy": "2025-02-28T20:38:44.571282Z",
     "iopub.status.idle": "2025-02-28T20:38:47.459928Z",
     "shell.execute_reply": "2025-02-28T20:38:47.459183Z"
    },
    "id": "fHk84P4cdyZw",
    "papermill": {
     "duration": 2.902973,
     "end_time": "2025-02-28T20:38:47.461410",
     "exception": false,
     "start_time": "2025-02-28T20:38:44.558437",
     "status": "completed"
    },
    "tags": []
   },
   "outputs": [],
   "source": [
    "cv = CountVectorizer(ngram_range=(1,2))\n",
    "\n",
    "\n",
    "x_train_bow = cv.fit_transform(x_train['Comment']).toarray()\n",
    "x_test_bow = cv.transform(x_test['Comment']).toarray()"
   ]
  },
  {
   "cell_type": "code",
   "execution_count": 51,
   "id": "ff3c929e",
   "metadata": {
    "execution": {
     "iopub.execute_input": "2025-02-28T20:38:47.487775Z",
     "iopub.status.busy": "2025-02-28T20:38:47.487517Z",
     "iopub.status.idle": "2025-02-28T20:52:07.795884Z",
     "shell.execute_reply": "2025-02-28T20:52:07.794997Z"
    },
    "id": "AodDIWTOesZ9",
    "outputId": "9f47f491-d907-4bed-d2f8-b3c2cb6d5ec5",
    "papermill": {
     "duration": 800.335849,
     "end_time": "2025-02-28T20:52:07.810241",
     "exception": false,
     "start_time": "2025-02-28T20:38:47.474392",
     "status": "completed"
    },
    "tags": []
   },
   "outputs": [
    {
     "name": "stdout",
     "output_type": "stream",
     "text": [
      "RandomForest Classifier \n"
     ]
    },
    {
     "data": {
      "text/html": [
       "<style>#sk-container-id-2 {color: black;background-color: white;}#sk-container-id-2 pre{padding: 0;}#sk-container-id-2 div.sk-toggleable {background-color: white;}#sk-container-id-2 label.sk-toggleable__label {cursor: pointer;display: block;width: 100%;margin-bottom: 0;padding: 0.3em;box-sizing: border-box;text-align: center;}#sk-container-id-2 label.sk-toggleable__label-arrow:before {content: \"▸\";float: left;margin-right: 0.25em;color: #696969;}#sk-container-id-2 label.sk-toggleable__label-arrow:hover:before {color: black;}#sk-container-id-2 div.sk-estimator:hover label.sk-toggleable__label-arrow:before {color: black;}#sk-container-id-2 div.sk-toggleable__content {max-height: 0;max-width: 0;overflow: hidden;text-align: left;background-color: #f0f8ff;}#sk-container-id-2 div.sk-toggleable__content pre {margin: 0.2em;color: black;border-radius: 0.25em;background-color: #f0f8ff;}#sk-container-id-2 input.sk-toggleable__control:checked~div.sk-toggleable__content {max-height: 200px;max-width: 100%;overflow: auto;}#sk-container-id-2 input.sk-toggleable__control:checked~label.sk-toggleable__label-arrow:before {content: \"▾\";}#sk-container-id-2 div.sk-estimator input.sk-toggleable__control:checked~label.sk-toggleable__label {background-color: #d4ebff;}#sk-container-id-2 div.sk-label input.sk-toggleable__control:checked~label.sk-toggleable__label {background-color: #d4ebff;}#sk-container-id-2 input.sk-hidden--visually {border: 0;clip: rect(1px 1px 1px 1px);clip: rect(1px, 1px, 1px, 1px);height: 1px;margin: -1px;overflow: hidden;padding: 0;position: absolute;width: 1px;}#sk-container-id-2 div.sk-estimator {font-family: monospace;background-color: #f0f8ff;border: 1px dotted black;border-radius: 0.25em;box-sizing: border-box;margin-bottom: 0.5em;}#sk-container-id-2 div.sk-estimator:hover {background-color: #d4ebff;}#sk-container-id-2 div.sk-parallel-item::after {content: \"\";width: 100%;border-bottom: 1px solid gray;flex-grow: 1;}#sk-container-id-2 div.sk-label:hover label.sk-toggleable__label {background-color: #d4ebff;}#sk-container-id-2 div.sk-serial::before {content: \"\";position: absolute;border-left: 1px solid gray;box-sizing: border-box;top: 0;bottom: 0;left: 50%;z-index: 0;}#sk-container-id-2 div.sk-serial {display: flex;flex-direction: column;align-items: center;background-color: white;padding-right: 0.2em;padding-left: 0.2em;position: relative;}#sk-container-id-2 div.sk-item {position: relative;z-index: 1;}#sk-container-id-2 div.sk-parallel {display: flex;align-items: stretch;justify-content: center;background-color: white;position: relative;}#sk-container-id-2 div.sk-item::before, #sk-container-id-2 div.sk-parallel-item::before {content: \"\";position: absolute;border-left: 1px solid gray;box-sizing: border-box;top: 0;bottom: 0;left: 50%;z-index: -1;}#sk-container-id-2 div.sk-parallel-item {display: flex;flex-direction: column;z-index: 1;position: relative;background-color: white;}#sk-container-id-2 div.sk-parallel-item:first-child::after {align-self: flex-end;width: 50%;}#sk-container-id-2 div.sk-parallel-item:last-child::after {align-self: flex-start;width: 50%;}#sk-container-id-2 div.sk-parallel-item:only-child::after {width: 0;}#sk-container-id-2 div.sk-dashed-wrapped {border: 1px dashed gray;margin: 0 0.4em 0.5em 0.4em;box-sizing: border-box;padding-bottom: 0.4em;background-color: white;}#sk-container-id-2 div.sk-label label {font-family: monospace;font-weight: bold;display: inline-block;line-height: 1.2em;}#sk-container-id-2 div.sk-label-container {text-align: center;}#sk-container-id-2 div.sk-container {/* jupyter's `normalize.less` sets `[hidden] { display: none; }` but bootstrap.min.css set `[hidden] { display: none !important; }` so we also need the `!important` here to be able to override the default hidden behavior on the sphinx rendered scikit-learn.org. See: https://github.com/scikit-learn/scikit-learn/issues/21755 */display: inline-block !important;position: relative;}#sk-container-id-2 div.sk-text-repr-fallback {display: none;}</style><div id=\"sk-container-id-2\" class=\"sk-top-container\"><div class=\"sk-text-repr-fallback\"><pre>RandomForestClassifier()</pre><b>In a Jupyter environment, please rerun this cell to show the HTML representation or trust the notebook. <br />On GitHub, the HTML representation is unable to render, please try loading this page with nbviewer.org.</b></div><div class=\"sk-container\" hidden><div class=\"sk-item\"><div class=\"sk-estimator sk-toggleable\"><input class=\"sk-toggleable__control sk-hidden--visually\" id=\"sk-estimator-id-2\" type=\"checkbox\" checked><label for=\"sk-estimator-id-2\" class=\"sk-toggleable__label sk-toggleable__label-arrow\">RandomForestClassifier</label><div class=\"sk-toggleable__content\"><pre>RandomForestClassifier()</pre></div></div></div></div></div>"
      ],
      "text/plain": [
       "RandomForestClassifier()"
      ]
     },
     "execution_count": 51,
     "metadata": {},
     "output_type": "execute_result"
    }
   ],
   "source": [
    "from sklearn.ensemble import RandomForestClassifier\n",
    "print('RandomForest Classifier ')\n",
    "rf = RandomForestClassifier()\n",
    "\n",
    "rf.fit(x_train_bow,y_train)"
   ]
  },
  {
   "cell_type": "code",
   "execution_count": 52,
   "id": "539b677a",
   "metadata": {
    "execution": {
     "iopub.execute_input": "2025-02-28T20:52:07.836701Z",
     "iopub.status.busy": "2025-02-28T20:52:07.836441Z",
     "iopub.status.idle": "2025-02-28T20:52:11.641085Z",
     "shell.execute_reply": "2025-02-28T20:52:11.640030Z"
    },
    "id": "UjZq33UXezBv",
    "papermill": {
     "duration": 3.819254,
     "end_time": "2025-02-28T20:52:11.642511",
     "exception": false,
     "start_time": "2025-02-28T20:52:07.823257",
     "status": "completed"
    },
    "tags": []
   },
   "outputs": [
    {
     "name": "stdout",
     "output_type": "stream",
     "text": [
      "RandomForest Classifier\n",
      "------------------------------------------------------------\n",
      "Accuracy 64.12 %\n"
     ]
    }
   ],
   "source": [
    "from sklearn.metrics import accuracy_score\n",
    "# prediction from the model\n",
    "y_pred = rf.predict(x_test_bow)\n",
    "# Score It\n",
    "\n",
    "print('RandomForest Classifier')\n",
    "# Accuracy\n",
    "print('--'*30)\n",
    "rf_accuracy = round(accuracy_score(y_test, y_pred) * 100,2)\n",
    "print('Accuracy', rf_accuracy,'%')"
   ]
  },
  {
   "cell_type": "markdown",
   "id": "66595d40",
   "metadata": {
    "papermill": {
     "duration": 0.012336,
     "end_time": "2025-02-28T20:52:11.668396",
     "exception": false,
     "start_time": "2025-02-28T20:52:11.656060",
     "status": "completed"
    },
    "tags": []
   },
   "source": [
    "# **TFIDF**"
   ]
  },
  {
   "cell_type": "code",
   "execution_count": 53,
   "id": "68271510",
   "metadata": {
    "execution": {
     "iopub.execute_input": "2025-02-28T20:52:11.694384Z",
     "iopub.status.busy": "2025-02-28T20:52:11.694106Z",
     "iopub.status.idle": "2025-02-28T20:52:11.697518Z",
     "shell.execute_reply": "2025-02-28T20:52:11.696706Z"
    },
    "papermill": {
     "duration": 0.01753,
     "end_time": "2025-02-28T20:52:11.698700",
     "exception": false,
     "start_time": "2025-02-28T20:52:11.681170",
     "status": "completed"
    },
    "tags": []
   },
   "outputs": [],
   "source": [
    "\n",
    "from sklearn.feature_extraction.text import TfidfVectorizer\n",
    "tfidf = TfidfVectorizer()"
   ]
  },
  {
   "cell_type": "code",
   "execution_count": 54,
   "id": "d4b38823",
   "metadata": {
    "execution": {
     "iopub.execute_input": "2025-02-28T20:52:11.724331Z",
     "iopub.status.busy": "2025-02-28T20:52:11.724125Z",
     "iopub.status.idle": "2025-02-28T20:52:13.405561Z",
     "shell.execute_reply": "2025-02-28T20:52:13.404873Z"
    },
    "papermill": {
     "duration": 1.695896,
     "end_time": "2025-02-28T20:52:13.407182",
     "exception": false,
     "start_time": "2025-02-28T20:52:11.711286",
     "status": "completed"
    },
    "tags": []
   },
   "outputs": [],
   "source": [
    "x_train_tfidf = tfidf.fit_transform(x_train['Comment']).toarray()\n",
    "x_test_tfidf = tfidf.transform(x_test['Comment'])"
   ]
  },
  {
   "cell_type": "code",
   "execution_count": 55,
   "id": "554bab73",
   "metadata": {
    "execution": {
     "iopub.execute_input": "2025-02-28T20:52:13.433736Z",
     "iopub.status.busy": "2025-02-28T20:52:13.433510Z",
     "iopub.status.idle": "2025-02-28T20:53:56.905363Z",
     "shell.execute_reply": "2025-02-28T20:53:56.904420Z"
    },
    "papermill": {
     "duration": 103.499351,
     "end_time": "2025-02-28T20:53:56.919879",
     "exception": false,
     "start_time": "2025-02-28T20:52:13.420528",
     "status": "completed"
    },
    "tags": []
   },
   "outputs": [
    {
     "name": "stdout",
     "output_type": "stream",
     "text": [
      "RandomForest Classifier \n"
     ]
    },
    {
     "data": {
      "text/html": [
       "<style>#sk-container-id-3 {color: black;background-color: white;}#sk-container-id-3 pre{padding: 0;}#sk-container-id-3 div.sk-toggleable {background-color: white;}#sk-container-id-3 label.sk-toggleable__label {cursor: pointer;display: block;width: 100%;margin-bottom: 0;padding: 0.3em;box-sizing: border-box;text-align: center;}#sk-container-id-3 label.sk-toggleable__label-arrow:before {content: \"▸\";float: left;margin-right: 0.25em;color: #696969;}#sk-container-id-3 label.sk-toggleable__label-arrow:hover:before {color: black;}#sk-container-id-3 div.sk-estimator:hover label.sk-toggleable__label-arrow:before {color: black;}#sk-container-id-3 div.sk-toggleable__content {max-height: 0;max-width: 0;overflow: hidden;text-align: left;background-color: #f0f8ff;}#sk-container-id-3 div.sk-toggleable__content pre {margin: 0.2em;color: black;border-radius: 0.25em;background-color: #f0f8ff;}#sk-container-id-3 input.sk-toggleable__control:checked~div.sk-toggleable__content {max-height: 200px;max-width: 100%;overflow: auto;}#sk-container-id-3 input.sk-toggleable__control:checked~label.sk-toggleable__label-arrow:before {content: \"▾\";}#sk-container-id-3 div.sk-estimator input.sk-toggleable__control:checked~label.sk-toggleable__label {background-color: #d4ebff;}#sk-container-id-3 div.sk-label input.sk-toggleable__control:checked~label.sk-toggleable__label {background-color: #d4ebff;}#sk-container-id-3 input.sk-hidden--visually {border: 0;clip: rect(1px 1px 1px 1px);clip: rect(1px, 1px, 1px, 1px);height: 1px;margin: -1px;overflow: hidden;padding: 0;position: absolute;width: 1px;}#sk-container-id-3 div.sk-estimator {font-family: monospace;background-color: #f0f8ff;border: 1px dotted black;border-radius: 0.25em;box-sizing: border-box;margin-bottom: 0.5em;}#sk-container-id-3 div.sk-estimator:hover {background-color: #d4ebff;}#sk-container-id-3 div.sk-parallel-item::after {content: \"\";width: 100%;border-bottom: 1px solid gray;flex-grow: 1;}#sk-container-id-3 div.sk-label:hover label.sk-toggleable__label {background-color: #d4ebff;}#sk-container-id-3 div.sk-serial::before {content: \"\";position: absolute;border-left: 1px solid gray;box-sizing: border-box;top: 0;bottom: 0;left: 50%;z-index: 0;}#sk-container-id-3 div.sk-serial {display: flex;flex-direction: column;align-items: center;background-color: white;padding-right: 0.2em;padding-left: 0.2em;position: relative;}#sk-container-id-3 div.sk-item {position: relative;z-index: 1;}#sk-container-id-3 div.sk-parallel {display: flex;align-items: stretch;justify-content: center;background-color: white;position: relative;}#sk-container-id-3 div.sk-item::before, #sk-container-id-3 div.sk-parallel-item::before {content: \"\";position: absolute;border-left: 1px solid gray;box-sizing: border-box;top: 0;bottom: 0;left: 50%;z-index: -1;}#sk-container-id-3 div.sk-parallel-item {display: flex;flex-direction: column;z-index: 1;position: relative;background-color: white;}#sk-container-id-3 div.sk-parallel-item:first-child::after {align-self: flex-end;width: 50%;}#sk-container-id-3 div.sk-parallel-item:last-child::after {align-self: flex-start;width: 50%;}#sk-container-id-3 div.sk-parallel-item:only-child::after {width: 0;}#sk-container-id-3 div.sk-dashed-wrapped {border: 1px dashed gray;margin: 0 0.4em 0.5em 0.4em;box-sizing: border-box;padding-bottom: 0.4em;background-color: white;}#sk-container-id-3 div.sk-label label {font-family: monospace;font-weight: bold;display: inline-block;line-height: 1.2em;}#sk-container-id-3 div.sk-label-container {text-align: center;}#sk-container-id-3 div.sk-container {/* jupyter's `normalize.less` sets `[hidden] { display: none; }` but bootstrap.min.css set `[hidden] { display: none !important; }` so we also need the `!important` here to be able to override the default hidden behavior on the sphinx rendered scikit-learn.org. See: https://github.com/scikit-learn/scikit-learn/issues/21755 */display: inline-block !important;position: relative;}#sk-container-id-3 div.sk-text-repr-fallback {display: none;}</style><div id=\"sk-container-id-3\" class=\"sk-top-container\"><div class=\"sk-text-repr-fallback\"><pre>RandomForestClassifier()</pre><b>In a Jupyter environment, please rerun this cell to show the HTML representation or trust the notebook. <br />On GitHub, the HTML representation is unable to render, please try loading this page with nbviewer.org.</b></div><div class=\"sk-container\" hidden><div class=\"sk-item\"><div class=\"sk-estimator sk-toggleable\"><input class=\"sk-toggleable__control sk-hidden--visually\" id=\"sk-estimator-id-3\" type=\"checkbox\" checked><label for=\"sk-estimator-id-3\" class=\"sk-toggleable__label sk-toggleable__label-arrow\">RandomForestClassifier</label><div class=\"sk-toggleable__content\"><pre>RandomForestClassifier()</pre></div></div></div></div></div>"
      ],
      "text/plain": [
       "RandomForestClassifier()"
      ]
     },
     "execution_count": 55,
     "metadata": {},
     "output_type": "execute_result"
    }
   ],
   "source": [
    "from sklearn.ensemble import RandomForestClassifier\n",
    "print('RandomForest Classifier ')\n",
    "rf = RandomForestClassifier()\n",
    "\n",
    "rf.fit(x_train_tfidf,y_train)"
   ]
  },
  {
   "cell_type": "code",
   "execution_count": 56,
   "id": "2e1aa9cb",
   "metadata": {
    "execution": {
     "iopub.execute_input": "2025-02-28T20:53:56.953556Z",
     "iopub.status.busy": "2025-02-28T20:53:56.953288Z",
     "iopub.status.idle": "2025-02-28T20:53:57.142901Z",
     "shell.execute_reply": "2025-02-28T20:53:57.141718Z"
    },
    "papermill": {
     "duration": 0.211187,
     "end_time": "2025-02-28T20:53:57.144373",
     "exception": false,
     "start_time": "2025-02-28T20:53:56.933186",
     "status": "completed"
    },
    "tags": []
   },
   "outputs": [
    {
     "name": "stdout",
     "output_type": "stream",
     "text": [
      "RandomForest Classifier\n",
      "------------------------------------------------------------\n",
      "Accuracy 65.38 %\n"
     ]
    }
   ],
   "source": [
    "from sklearn.metrics import accuracy_score\n",
    "# prediction from the model\n",
    "y_pred = rf.predict(x_test_tfidf)\n",
    "# Score It\n",
    "\n",
    "print('RandomForest Classifier')\n",
    "# Accuracy\n",
    "print('--'*30)\n",
    "rf_accuracy = round(accuracy_score(y_test, y_pred) * 100,2)\n",
    "print('Accuracy', rf_accuracy,'%')"
   ]
  },
  {
   "cell_type": "code",
   "execution_count": null,
   "id": "5802b93e",
   "metadata": {
    "papermill": {
     "duration": 0.01263,
     "end_time": "2025-02-28T20:53:57.170195",
     "exception": false,
     "start_time": "2025-02-28T20:53:57.157565",
     "status": "completed"
    },
    "tags": []
   },
   "outputs": [],
   "source": []
  }
 ],
 "metadata": {
  "colab": {
   "provenance": []
  },
  "kaggle": {
   "accelerator": "nvidiaTeslaT4",
   "dataSources": [
    {
     "datasetId": 6560918,
     "sourceId": 10599713,
     "sourceType": "datasetVersion"
    }
   ],
   "dockerImageVersionId": 30919,
   "isGpuEnabled": true,
   "isInternetEnabled": true,
   "language": "python",
   "sourceType": "notebook"
  },
  "kernelspec": {
   "display_name": "Python 3",
   "language": "python",
   "name": "python3"
  },
  "language_info": {
   "codemirror_mode": {
    "name": "ipython",
    "version": 3
   },
   "file_extension": ".py",
   "mimetype": "text/x-python",
   "name": "python",
   "nbconvert_exporter": "python",
   "pygments_lexer": "ipython3",
   "version": "3.10.12"
  },
  "papermill": {
   "default_parameters": {},
   "duration": 1176.718683,
   "end_time": "2025-02-28T20:53:59.307048",
   "environment_variables": {},
   "exception": null,
   "input_path": "__notebook__.ipynb",
   "output_path": "__notebook__.ipynb",
   "parameters": {},
   "start_time": "2025-02-28T20:34:22.588365",
   "version": "2.6.0"
  }
 },
 "nbformat": 4,
 "nbformat_minor": 5
}
